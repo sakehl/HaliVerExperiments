{
 "cells": [
  {
   "cell_type": "markdown",
   "id": "english-driving",
   "metadata": {},
   "source": [
    "# Experiments for HaliVer"
   ]
  },
  {
   "cell_type": "code",
   "execution_count": 2,
   "id": "classified-treasure",
   "metadata": {},
   "outputs": [],
   "source": [
    "from preprocess import *\n",
    "from typing import List, Optional, Dict, Tuple\n",
    "import datetime\n",
    "from collections import defaultdict"
   ]
  },
  {
   "cell_type": "code",
   "execution_count": 3,
   "id": "unsigned-salmon",
   "metadata": {},
   "outputs": [],
   "source": [
    "n = 5 # repetitions\n",
    "t = 10*60 # timeout\n",
    "load_results = True # If this is true, we do not run experiments, but only load them from file\n",
    "load_prefix = \"results/2023-10-09-18-59\"\n",
    "save_prefix = \"results/\" + datetime.datetime.now().strftime('%Y-%m-%d-%H-%M')\n",
    "vercors_loc = '/home/lars/data/vercors/bin/vct'\n",
    "silicon_loc = '/home/lars/data/vercors/bin/silicon'\n"
   ]
  },
  {
   "cell_type": "code",
   "execution_count": 4,
   "id": "adaptive-surface",
   "metadata": {},
   "outputs": [],
   "source": [
    "versions: Dict[str, List[str]] = {\n",
    "    'blur' : ['0','1','2','3'],\n",
    "    'hist' : ['0','1','2','3'],\n",
    "    'conv_layer' : ['0','1','2','3'],\n",
    "    'gemm' : ['0','1','2','3'],\n",
    "    'auto_viz' : ['0','1','2','3'],\n",
    "}\n",
    "\n",
    "versionsMem: Dict[str, List[str]] = {\n",
    "    'blur' : ['0','1','2','3'],\n",
    "    'hist' : ['0','1','2','3'],\n",
    "    'conv_layer' : ['0','1','2','3'],\n",
    "    'gemm' : ['0','1','2','3'],\n",
    "    'auto_viz' : ['0','1','2','3'],\n",
    "    'camera_pipe' : [''],\n",
    "    'bilateral_grid' : [''],\n",
    "    'depthwise_separable_conv' : [''],\n",
    "}\n",
    "experiments = Experiments(versions, versionsMem, vercors_loc=vercors_loc, silicon_loc=silicon_loc, repetitions = n, timeout = t)"
   ]
  },
  {
   "cell_type": "code",
   "execution_count": 8,
   "id": "e9657d30",
   "metadata": {},
   "outputs": [
    {
     "name": "stdout",
     "output_type": "stream",
     "text": [
      "[  1%] \u001b[32m\u001b[1mLinking CXX executable blur\u001b[0m\n",
      "[  2%] Built target blur\n",
      "[  4%] \u001b[34m\u001b[1mGenerating blur_front.pvl\u001b[0m\n",
      "[  5%] \u001b[34m\u001b[1mGenerating blur_0.c\u001b[0m\n",
      "[  7%] \u001b[34m\u001b[1mGenerating blur_1.c\u001b[0m\n",
      "[  8%] \u001b[34m\u001b[1mGenerating blur_2.c\u001b[0m\n",
      "[ 10%] \u001b[34m\u001b[1mGenerating blur_3.c\u001b[0m\n",
      "[ 10%] Built target blur_pvl\n",
      "[ 11%] \u001b[34m\u001b[1mGenerating blur_0_mem.c\u001b[0m\n",
      "[ 13%] \u001b[34m\u001b[1mGenerating blur_1_mem.c\u001b[0m\n",
      "[ 14%] \u001b[34m\u001b[1mGenerating blur_2_mem.c\u001b[0m\n",
      "[ 16%] \u001b[34m\u001b[1mGenerating blur_3_mem.c\u001b[0m\n",
      "[ 16%] Built target blur_pvl_mem\n",
      "[ 17%] \u001b[32m\u001b[1mLinking CXX executable hist\u001b[0m\n",
      "[ 19%] Built target hist\n",
      "[ 20%] \u001b[34m\u001b[1mGenerating hist_front.pvl\u001b[0m\n",
      "[ 22%] \u001b[34m\u001b[1mGenerating hist_0.c\u001b[0m\n",
      "[ 23%] \u001b[34m\u001b[1mGenerating hist_1.c\u001b[0m\n",
      "[ 25%] \u001b[34m\u001b[1mGenerating hist_2.c\u001b[0m\n",
      "[ 26%] \u001b[34m\u001b[1mGenerating hist_3.c\u001b[0m\n",
      "[ 26%] Built target hist_pvl\n",
      "[ 28%] \u001b[34m\u001b[1mGenerating hist_0_mem.c\u001b[0m\n",
      "[ 29%] \u001b[34m\u001b[1mGenerating hist_1_mem.c\u001b[0m\n",
      "[ 31%] \u001b[34m\u001b[1mGenerating hist_2_mem.c\u001b[0m\n",
      "[ 32%] \u001b[34m\u001b[1mGenerating hist_3_mem.c\u001b[0m\n",
      "[ 32%] Built target hist_pvl_mem\n",
      "[ 34%] \u001b[32m\u001b[1mLinking CXX executable conv_layer\u001b[0m\n",
      "[ 35%] Built target conv_layer\n",
      "[ 37%] \u001b[34m\u001b[1mGenerating conv_layer_front.pvl\u001b[0m\n",
      "[ 38%] \u001b[34m\u001b[1mGenerating conv_layer_0.c\u001b[0m\n",
      "[ 40%] \u001b[34m\u001b[1mGenerating conv_layer_1.c\u001b[0m\n",
      "[ 41%] \u001b[34m\u001b[1mGenerating conv_layer_2.c\u001b[0m\n",
      "[ 43%] \u001b[34m\u001b[1mGenerating conv_layer_3.c\u001b[0m\n",
      "[ 43%] Built target conv_layer_pvl\n",
      "[ 44%] \u001b[34m\u001b[1mGenerating conv_layer_0_mem.c\u001b[0m\n",
      "[ 46%] \u001b[34m\u001b[1mGenerating conv_layer_1_mem.c\u001b[0m\n",
      "[ 47%] \u001b[34m\u001b[1mGenerating conv_layer_2_mem.c\u001b[0m\n",
      "[ 49%] \u001b[34m\u001b[1mGenerating conv_layer_3_mem.c\u001b[0m\n",
      "[ 49%] Built target conv_layer_pvl_mem\n",
      "[ 50%] \u001b[32m\u001b[1mLinking CXX executable gemm\u001b[0m\n",
      "[ 52%] Built target gemm\n",
      "[ 53%] \u001b[34m\u001b[1mGenerating gemm_front.pvl\u001b[0m\n",
      "[ 55%] \u001b[34m\u001b[1mGenerating gemm_0.c\u001b[0m\n",
      "[ 56%] \u001b[34m\u001b[1mGenerating gemm_1.c\u001b[0m\n",
      "[ 58%] \u001b[34m\u001b[1mGenerating gemm_2.c\u001b[0m\n",
      "[ 59%] \u001b[34m\u001b[1mGenerating gemm_3.c\u001b[0m\n",
      "[ 59%] Built target gemm_pvl\n",
      "[ 61%] \u001b[34m\u001b[1mGenerating gemm_0_mem.c\u001b[0m\n",
      "[ 62%] \u001b[34m\u001b[1mGenerating gemm_1_mem.c\u001b[0m\n",
      "[ 64%] \u001b[34m\u001b[1mGenerating gemm_2_mem.c\u001b[0m\n",
      "[ 65%] \u001b[34m\u001b[1mGenerating gemm_3_mem.c\u001b[0m\n",
      "[ 65%] Built target gemm_pvl_mem\n",
      "[ 67%] \u001b[32m\u001b[1mLinking CXX executable auto_viz\u001b[0m\n",
      "[ 68%] Built target auto_viz\n",
      "[ 70%] \u001b[34m\u001b[1mGenerating auto_viz_front.pvl\u001b[0m\n",
      "[ 71%] \u001b[34m\u001b[1mGenerating auto_viz_0.c\u001b[0m\n",
      "[ 73%] \u001b[34m\u001b[1mGenerating auto_viz_1.c\u001b[0m\n",
      "[ 74%] \u001b[34m\u001b[1mGenerating auto_viz_2.c\u001b[0m\n",
      "[ 76%] \u001b[34m\u001b[1mGenerating auto_viz_3.c\u001b[0m\n",
      "[ 76%] Built target auto_viz_pvl\n",
      "[ 77%] \u001b[34m\u001b[1mGenerating auto_viz_0_mem.c\u001b[0m\n",
      "[ 79%] \u001b[34m\u001b[1mGenerating auto_viz_1_mem.c\u001b[0m\n",
      "[ 80%] \u001b[34m\u001b[1mGenerating auto_viz_2_mem.c\u001b[0m\n",
      "[ 82%] \u001b[34m\u001b[1mGenerating auto_viz_3_mem.c\u001b[0m\n",
      "[ 82%] Built target auto_viz_pvl_mem\n",
      "[ 83%] \u001b[32m\u001b[1mLinking CXX executable bilateral_grid\u001b[0m\n",
      "[ 85%] Built target bilateral_grid\n",
      "[ 86%] \u001b[34m\u001b[1mGenerating bilateral_grid_mem.c\u001b[0m\n",
      "[ 86%] Built target bilateral_grid_pvl\n",
      "[ 88%] \u001b[32m\u001b[1mLinking CXX executable camera_pipe\u001b[0m\n",
      "[ 89%] Built target camera_pipe\n",
      "[ 91%] \u001b[34m\u001b[1mGenerating camera_pipe_mem.c\u001b[0m\n",
      "[ 91%] Built target camera_pipe_pvl\n",
      "[ 92%] \u001b[32m\u001b[1mLinking CXX executable depthwise_separable_conv\u001b[0m\n",
      "[ 94%] Built target depthwise_separable_conv\n",
      "[ 95%] \u001b[34m\u001b[1mGenerating depthwise_separable_conv_mem.c\u001b[0m\n",
      "[ 95%] Built target depthwise_separable_conv_pvl\n",
      "[ 97%] \u001b[32m\u001b[1mLinking CXX executable tutorial\u001b[0m\n",
      "[ 98%] Built target tutorial\n",
      "[100%] \u001b[34m\u001b[1mGenerating tutorial.c\u001b[0m\n",
      "[100%] Built target tutorial_all\n"
     ]
    }
   ],
   "source": [
    "!cmake --build build"
   ]
  },
  {
   "cell_type": "code",
   "execution_count": 5,
   "id": "b1e35e9a",
   "metadata": {},
   "outputs": [
    {
     "name": "stdout",
     "output_type": "stream",
     "text": [
      "blur_0.c\n",
      "Code: 178\n",
      "Annotations:63\n",
      "Loops: 2\n",
      "blur_1.c\n",
      "Code: 172\n",
      "Annotations:58\n",
      "Loops: 1\n",
      "blur_2.c\n",
      "Code: 212\n",
      "Annotations:83\n",
      "Loops: 6\n",
      "blur_3.c\n",
      "Code: 211\n",
      "Annotations:79\n",
      "Loops: 5\n",
      "blur_front.pvl\n",
      "Code: 86\n",
      "Annotations:3\n",
      "Loops: 0\n",
      "hist_0.c\n",
      "Code: 299\n",
      "Annotations:118\n",
      "Loops: 11\n",
      "hist_1.c\n",
      "Code: 308\n",
      "Annotations:118\n",
      "Loops: 11\n",
      "hist_2.c\n",
      "Code: 311\n",
      "Annotations:123\n",
      "Loops: 13\n",
      "hist_3.c\n",
      "Code: 312\n",
      "Annotations:125\n",
      "Loops: 13\n",
      "hist_front.pvl\n",
      "Code: 137\n",
      "Annotations:14\n",
      "Loops: 0\n",
      "conv_layer_0.c\n",
      "Code: 273\n",
      "Annotations:177\n",
      "Loops: 7\n",
      "conv_layer_1.c\n",
      "Code: 281\n",
      "Annotations:174\n",
      "Loops: 8\n",
      "conv_layer_2.c\n",
      "Code: 302\n",
      "Annotations:204\n",
      "Loops: 10\n",
      "conv_layer_3.c\n",
      "Code: 279\n",
      "Annotations:177\n",
      "Loops: 7\n",
      "conv_layer_front.pvl\n",
      "Code: 158\n",
      "Annotations:11\n",
      "Loops: 0\n",
      "gemm_0.c\n",
      "Code: 218\n",
      "Annotations:120\n",
      "Loops: 3\n",
      "gemm_1.c\n",
      "Code: 274\n",
      "Annotations:169\n",
      "Loops: 10\n",
      "gemm_2.c\n",
      "Code: 342\n",
      "Annotations:230\n",
      "Loops: 19\n",
      "gemm_3.c\n",
      "Code: 451\n",
      "Annotations:310\n",
      "Loops: 31\n",
      "gemm_front.pvl\n",
      "Code: 143\n",
      "Annotations:14\n",
      "Loops: 0\n",
      "auto_viz_0.c\n",
      "Code: 443\n",
      "Annotations:158\n",
      "Loops: 19\n",
      "auto_viz_1.c\n",
      "Code: 402\n",
      "Annotations:210\n",
      "Loops: 23\n",
      "auto_viz_2.c\n",
      "Code: 440\n",
      "Annotations:235\n",
      "Loops: 27\n",
      "auto_viz_3.c\n",
      "Code: 443\n",
      "Annotations:229\n",
      "Loops: 25\n",
      "auto_viz_front.pvl\n",
      "Code: 164\n",
      "Annotations:28\n",
      "Loops: 0\n",
      "blur_0_mem.c\n",
      "Code: 178\n",
      "Annotations:60\n",
      "Loops: 2\n",
      "blur_1_mem.c\n",
      "Code: 172\n",
      "Annotations:56\n",
      "Loops: 1\n",
      "blur_2_mem.c\n",
      "Code: 212\n",
      "Annotations:74\n",
      "Loops: 6\n",
      "blur_3_mem.c\n",
      "Code: 211\n",
      "Annotations:72\n",
      "Loops: 5\n",
      "hist_0_mem.c\n",
      "Code: 299\n",
      "Annotations:98\n",
      "Loops: 11\n",
      "hist_1_mem.c\n",
      "Code: 308\n",
      "Annotations:99\n",
      "Loops: 11\n",
      "hist_2_mem.c\n",
      "Code: 311\n",
      "Annotations:105\n",
      "Loops: 13\n",
      "hist_3_mem.c\n",
      "Code: 312\n",
      "Annotations:101\n",
      "Loops: 13\n",
      "conv_layer_0_mem.c\n",
      "Code: 273\n",
      "Annotations:148\n",
      "Loops: 7\n",
      "conv_layer_1_mem.c\n",
      "Code: 281\n",
      "Annotations:145\n",
      "Loops: 8\n",
      "conv_layer_2_mem.c\n",
      "Code: 302\n",
      "Annotations:166\n",
      "Loops: 10\n",
      "conv_layer_3_mem.c\n",
      "Code: 279\n",
      "Annotations:148\n",
      "Loops: 7\n",
      "gemm_0_mem.c\n",
      "Code: 218\n",
      "Annotations:105\n",
      "Loops: 3\n",
      "gemm_1_mem.c\n",
      "Code: 274\n",
      "Annotations:136\n",
      "Loops: 10\n",
      "gemm_2_mem.c\n",
      "Code: 342\n",
      "Annotations:173\n",
      "Loops: 19\n",
      "gemm_3_mem.c\n",
      "Code: 451\n",
      "Annotations:221\n",
      "Loops: 31\n",
      "auto_viz_0_mem.c\n",
      "Code: 443\n",
      "Annotations:118\n",
      "Loops: 19\n",
      "auto_viz_1_mem.c\n",
      "Code: 402\n",
      "Annotations:139\n",
      "Loops: 23\n",
      "auto_viz_2_mem.c\n",
      "Code: 440\n",
      "Annotations:156\n",
      "Loops: 27\n",
      "auto_viz_3_mem.c\n",
      "Code: 443\n",
      "Annotations:152\n",
      "Loops: 25\n",
      "camera_pipe_mem.c\n",
      "Code: 701\n",
      "Annotations:236\n",
      "Loops: 25\n",
      "bilateral_grid_mem.c\n",
      "Code: 562\n",
      "Annotations:180\n",
      "Loops: 39\n",
      "depthwise_separable_conv_mem.c\n",
      "Code: 562\n",
      "Annotations:315\n",
      "Loops: 44\n"
     ]
    }
   ],
   "source": [
    "experiments.count_files()"
   ]
  },
  {
   "cell_type": "markdown",
   "id": "antique-quarterly",
   "metadata": {},
   "source": [
    "## Blur"
   ]
  },
  {
   "cell_type": "code",
   "execution_count": 6,
   "id": "fatal-screw",
   "metadata": {},
   "outputs": [],
   "source": [
    "name = 'blur'"
   ]
  },
  {
   "cell_type": "code",
   "execution_count": 7,
   "id": "extra-kidney",
   "metadata": {},
   "outputs": [],
   "source": [
    "if(not load_results):\n",
    "    experiments.front_end(name)"
   ]
  },
  {
   "cell_type": "code",
   "execution_count": 8,
   "id": "reported-formula",
   "metadata": {
    "scrolled": true
   },
   "outputs": [],
   "source": [
    "if(not load_results):\n",
    "    experiments.back_end(name)"
   ]
  },
  {
   "cell_type": "code",
   "execution_count": 9,
   "id": "1513005b",
   "metadata": {},
   "outputs": [],
   "source": [
    "if(not load_results):\n",
    "    experiments.back_end(name, mem=True)"
   ]
  },
  {
   "cell_type": "code",
   "execution_count": 10,
   "id": "d924ba6f",
   "metadata": {},
   "outputs": [],
   "source": [
    "if(not load_results):\n",
    "    experiments.save_results(save_prefix)"
   ]
  },
  {
   "cell_type": "markdown",
   "id": "literary-following",
   "metadata": {},
   "source": [
    "## Hist"
   ]
  },
  {
   "cell_type": "code",
   "execution_count": 11,
   "id": "premier-novelty",
   "metadata": {},
   "outputs": [],
   "source": [
    "name = 'hist'"
   ]
  },
  {
   "cell_type": "code",
   "execution_count": 12,
   "id": "d084003e",
   "metadata": {},
   "outputs": [],
   "source": [
    "if(not load_results):\n",
    "    experiments.front_end(name)"
   ]
  },
  {
   "cell_type": "code",
   "execution_count": 13,
   "id": "97f127ae",
   "metadata": {
    "scrolled": true
   },
   "outputs": [],
   "source": [
    "if(not load_results):\n",
    "    experiments.back_end(name)"
   ]
  },
  {
   "cell_type": "code",
   "execution_count": 14,
   "id": "1881e554",
   "metadata": {},
   "outputs": [],
   "source": [
    "if(not load_results):\n",
    "    experiments.back_end(name, mem=True)"
   ]
  },
  {
   "cell_type": "code",
   "execution_count": 15,
   "id": "578009a5",
   "metadata": {},
   "outputs": [],
   "source": [
    "if(not load_results):\n",
    "    experiments.save_results(save_prefix)"
   ]
  },
  {
   "cell_type": "markdown",
   "id": "finnish-opening",
   "metadata": {},
   "source": [
    "## Conv_layer"
   ]
  },
  {
   "cell_type": "code",
   "execution_count": 16,
   "id": "personalized-principal",
   "metadata": {},
   "outputs": [],
   "source": [
    "name = 'conv_layer'"
   ]
  },
  {
   "cell_type": "code",
   "execution_count": 17,
   "id": "79f7eec3",
   "metadata": {},
   "outputs": [],
   "source": [
    "if(not load_results):\n",
    "    experiments.front_end(name)"
   ]
  },
  {
   "cell_type": "code",
   "execution_count": 18,
   "id": "c761cc37",
   "metadata": {
    "scrolled": true
   },
   "outputs": [],
   "source": [
    "if(not load_results):\n",
    "    experiments.back_end(name)"
   ]
  },
  {
   "cell_type": "code",
   "execution_count": 19,
   "id": "10909124",
   "metadata": {},
   "outputs": [],
   "source": [
    "if(not load_results):\n",
    "    experiments.back_end(name, mem=True)"
   ]
  },
  {
   "cell_type": "code",
   "execution_count": 20,
   "id": "c67e7661",
   "metadata": {},
   "outputs": [],
   "source": [
    "if(not load_results):\n",
    "    experiments.save_results(save_prefix)"
   ]
  },
  {
   "cell_type": "markdown",
   "id": "executed-blowing",
   "metadata": {
    "slideshow": {
     "slide_type": ""
    }
   },
   "source": [
    "## Gemm"
   ]
  },
  {
   "cell_type": "code",
   "execution_count": 21,
   "id": "suited-argument",
   "metadata": {},
   "outputs": [],
   "source": [
    "name = 'gemm'"
   ]
  },
  {
   "cell_type": "code",
   "execution_count": 22,
   "id": "24e9e255",
   "metadata": {},
   "outputs": [],
   "source": [
    "if(not load_results):\n",
    "    experiments.front_end(name)"
   ]
  },
  {
   "cell_type": "code",
   "execution_count": 23,
   "id": "ed9b1104",
   "metadata": {
    "scrolled": true
   },
   "outputs": [],
   "source": [
    "if(not load_results):\n",
    "    experiments.back_end(name)"
   ]
  },
  {
   "cell_type": "code",
   "execution_count": 24,
   "id": "db5cd986",
   "metadata": {},
   "outputs": [],
   "source": [
    "if(not load_results):\n",
    "    experiments.back_end(name, mem=True)"
   ]
  },
  {
   "cell_type": "code",
   "execution_count": 25,
   "id": "b9834f1b",
   "metadata": {},
   "outputs": [],
   "source": [
    "if(not load_results):\n",
    "    experiments.save_results(save_prefix)"
   ]
  },
  {
   "cell_type": "markdown",
   "id": "485b6b16",
   "metadata": {
    "slideshow": {
     "slide_type": ""
    }
   },
   "source": [
    "## Auto_viz"
   ]
  },
  {
   "cell_type": "code",
   "execution_count": 26,
   "id": "26a57a74",
   "metadata": {},
   "outputs": [],
   "source": [
    "name = 'auto_viz'"
   ]
  },
  {
   "cell_type": "code",
   "execution_count": 27,
   "id": "cc357350",
   "metadata": {},
   "outputs": [],
   "source": [
    "if(not load_results):\n",
    "    experiments.front_end(name)"
   ]
  },
  {
   "cell_type": "code",
   "execution_count": 28,
   "id": "47c3f281",
   "metadata": {
    "scrolled": true
   },
   "outputs": [],
   "source": [
    "if(not load_results):\n",
    "    experiments.back_end(name)"
   ]
  },
  {
   "cell_type": "code",
   "execution_count": 29,
   "id": "353c7ea3",
   "metadata": {},
   "outputs": [],
   "source": [
    "if(not load_results):\n",
    "    experiments.back_end(name, mem=True)"
   ]
  },
  {
   "cell_type": "code",
   "execution_count": 30,
   "id": "dcdd200f",
   "metadata": {},
   "outputs": [],
   "source": [
    "if(not load_results):\n",
    "    experiments.save_results(save_prefix)"
   ]
  },
  {
   "cell_type": "markdown",
   "id": "43c4dede",
   "metadata": {
    "slideshow": {
     "slide_type": ""
    }
   },
   "source": [
    "## camera_pipeline"
   ]
  },
  {
   "cell_type": "code",
   "execution_count": 31,
   "id": "08c0dd7d",
   "metadata": {},
   "outputs": [],
   "source": [
    "name = 'camera_pipe'"
   ]
  },
  {
   "cell_type": "code",
   "execution_count": 32,
   "id": "5ade64e7",
   "metadata": {
    "scrolled": true
   },
   "outputs": [],
   "source": [
    "if(not load_results):\n",
    "    experiments.back_end(name, mem=True)"
   ]
  },
  {
   "cell_type": "code",
   "execution_count": 33,
   "id": "24d4c336",
   "metadata": {},
   "outputs": [],
   "source": [
    "if(not load_results):\n",
    "    experiments.save_results(save_prefix)"
   ]
  },
  {
   "cell_type": "markdown",
   "id": "b238c45e",
   "metadata": {
    "slideshow": {
     "slide_type": ""
    }
   },
   "source": [
    "## bilateral_grid"
   ]
  },
  {
   "cell_type": "code",
   "execution_count": 34,
   "id": "49335509",
   "metadata": {},
   "outputs": [],
   "source": [
    "name = 'bilateral_grid'"
   ]
  },
  {
   "cell_type": "code",
   "execution_count": 35,
   "id": "4c40c438",
   "metadata": {
    "scrolled": true
   },
   "outputs": [],
   "source": [
    "if(not load_results):\n",
    "    experiments.back_end(name, mem=True)"
   ]
  },
  {
   "cell_type": "code",
   "execution_count": 36,
   "id": "7a13799c",
   "metadata": {},
   "outputs": [],
   "source": [
    "if(not load_results):\n",
    "    experiments.save_results(save_prefix)"
   ]
  },
  {
   "cell_type": "markdown",
   "id": "31839723",
   "metadata": {
    "slideshow": {
     "slide_type": ""
    }
   },
   "source": [
    "## depthwise_separable_conv"
   ]
  },
  {
   "cell_type": "code",
   "execution_count": 37,
   "id": "dc072130",
   "metadata": {},
   "outputs": [],
   "source": [
    "name = 'depthwise_separable_conv'"
   ]
  },
  {
   "cell_type": "code",
   "execution_count": 38,
   "id": "e637ee16",
   "metadata": {
    "scrolled": true
   },
   "outputs": [],
   "source": [
    "if(not load_results):\n",
    "    experiments.back_end(name, mem=True)"
   ]
  },
  {
   "cell_type": "code",
   "execution_count": 39,
   "id": "c8a23706",
   "metadata": {},
   "outputs": [],
   "source": [
    "if(not load_results):\n",
    "    experiments.save_results(save_prefix)"
   ]
  },
  {
   "cell_type": "code",
   "execution_count": 12,
   "id": "4ae12c85",
   "metadata": {},
   "outputs": [
    {
     "name": "stdout",
     "output_type": "stream",
     "text": [
      "camera_pipe_mem.pvl (215.9516417980194, <Result.Pass: 'pass'>)\n",
      "camera_pipe_mem.pvl (179.86661577224731, <Result.Pass: 'pass'>)\n",
      "camera_pipe_mem.pvl (221.68784761428833, <Result.Pass: 'pass'>)\n",
      "camera_pipe_mem.pvl (182.06173014640808, <Result.Pass: 'pass'>)\n",
      "camera_pipe_mem.pvl (170.41228556632996, <Result.Pass: 'pass'>)\n"
     ]
    }
   ],
   "source": [
    "experiments.run_verification('camera_pipe_mem.pvl', repetitions=5, timeout=600, useAPI=True)"
   ]
  },
  {
   "cell_type": "markdown",
   "id": "inclusive-distinction",
   "metadata": {},
   "source": [
    "# Result table"
   ]
  },
  {
   "cell_type": "code",
   "execution_count": 41,
   "id": "f40158c4",
   "metadata": {},
   "outputs": [],
   "source": [
    "if(load_results):\n",
    "    experiments.load_results(load_prefix)"
   ]
  },
  {
   "cell_type": "code",
   "execution_count": 42,
   "id": "7546d640",
   "metadata": {},
   "outputs": [],
   "source": [
    "from collections import Counter"
   ]
  },
  {
   "cell_type": "code",
   "execution_count": 43,
   "id": "bd397e43",
   "metadata": {},
   "outputs": [
    {
     "name": "stderr",
     "output_type": "stream",
     "text": [
      "<cell>8: \u001b[1m\u001b[31merror:\u001b[m Need type annotation for \u001b[m\u001b[1m\"result\"\u001b[m  \u001b[m\u001b[33m[var-annotated]\u001b[m\n"
     ]
    }
   ],
   "source": [
    "def count_schedule_directives(line: str)-> Counter[str]:\n",
    "    directives = {\"parallel\", \"vectorize\", \"unroll\", \n",
    "                  \"split\", \"tile\" , \"fuse\", \"reorder\",\n",
    "                  \"compute_root\", \"compute_at\",\n",
    "                  \"store_at\", \"store_root\",\n",
    "                  \"fold_storage\",\"compute_with\",\"prefetch\",\n",
    "                  \"bound_extent\", \"bound\", \"rename\", \"update\"}\n",
    "    result = Counter()\n",
    "    for d in directives:\n",
    "        i = line.count(\".\"+d+\"(\")\n",
    "        if(i > 0):\n",
    "            result[d] += 1\n",
    "    return result"
   ]
  },
  {
   "cell_type": "code",
   "execution_count": 44,
   "id": "44640b41",
   "metadata": {},
   "outputs": [],
   "source": [
    "def count_annotations(line: str)->int:\n",
    "    directives = {\"ensures\", \"context\", \"requires\", \"invariant\"}\n",
    "    result = 0\n",
    "    for d in directives:\n",
    "        result += line.count(d+\"(\")\n",
    "    return result"
   ]
  },
  {
   "cell_type": "code",
   "execution_count": 45,
   "id": "8ac1c20c",
   "metadata": {},
   "outputs": [],
   "source": [
    "def is_schedule(line: str)-> Optional[int]:\n",
    "    l = line.strip()\n",
    "    schedule = 0\n",
    "    if(l == \"/* End Schedule */\"):\n",
    "        return -1\n",
    "    elif(l == \"/* Schedule */\"):\n",
    "        return 0\n",
    "    elif(l.startswith(\"/* Schedule\") and l.endswith(\"*/\")):\n",
    "        l = l[len(\"/* Schedule\"):-2]\n",
    "        try:\n",
    "            return int(l)\n",
    "        except:\n",
    "            print(f\"Error reading line {line}\")\n",
    "            return 0\n",
    "    else:\n",
    "        return None"
   ]
  },
  {
   "cell_type": "code",
   "execution_count": 46,
   "id": "6d07c22b",
   "metadata": {},
   "outputs": [
    {
     "name": "stderr",
     "output_type": "stream",
     "text": [
      "<cell>4: \u001b[1m\u001b[31merror:\u001b[m Need type annotation for \u001b[m\u001b[1m\"sched_dict\"\u001b[m  \u001b[m\u001b[33m[var-annotated]\u001b[m\n",
      "<cell>13: \u001b[1m\u001b[31merror:\u001b[m Incompatible types in assignment (expression has type \u001b[m\u001b[1m\"Optional[int]\"\u001b[m, variable has type \u001b[m\u001b[1m\"int\"\u001b[m)  \u001b[m\u001b[33m[assignment]\u001b[m\n"
     ]
    }
   ],
   "source": [
    "def count_cpp_file(f: str)-> Tuple[int, int, Dict[int, Counter[str]]]:\n",
    "    anns = 0\n",
    "    sched = 0\n",
    "    sched_dict = {-1: Counter(), 0: Counter(), 1: Counter(), 2: Counter(), 3: Counter(), 4: Counter()}\n",
    "    loc = 0\n",
    "    with open(f) as f:\n",
    "        current_sched = -1\n",
    "        for l in f:\n",
    "            l = l.strip().split(\"//\")[0]\n",
    "\n",
    "            next_sched = is_schedule(l)\n",
    "            if(next_sched != None):\n",
    "                current_sched = next_sched\n",
    "            else:\n",
    "                i = count_annotations(l)\n",
    "                anns += i\n",
    "                sched_dict[current_sched] += count_schedule_directives(l)\n",
    "                # Do not count lines which are part of the schedule or the annotations\n",
    "                if(current_sched == -1 and i == 0):\n",
    "                    loc += 1\n",
    "    return anns, loc, sched_dict"
   ]
  },
  {
   "cell_type": "code",
   "execution_count": 47,
   "id": "ae36749a",
   "metadata": {},
   "outputs": [],
   "source": [
    "def get_directives(sched: Counter[str])-> str:\n",
    "    result = []\n",
    "    if 'compute_at' in sched or 'compute_root' in sched:\n",
    "        result.append('c')\n",
    "    if 'fuse' in sched:\n",
    "        result.append('f')\n",
    "    if 'parallel' in sched:\n",
    "        result.append('p')\n",
    "    if 'reorder' in sched:\n",
    "        result.append('r')\n",
    "    if 'split' in sched or 'tile' in sched:\n",
    "        result.append('s')\n",
    "    if 'store_at' in sched or 'store_root' in sched:\n",
    "        result.append('st')\n",
    "    if 'unroll' in sched:\n",
    "        result.append('u')\n",
    "    \n",
    "    return '\\{' + ','.join(result) + '\\}'"
   ]
  },
  {
   "cell_type": "code",
   "execution_count": 48,
   "id": "13f2e279",
   "metadata": {},
   "outputs": [],
   "source": [
    "directivesUsed : Dict[str, Dict[str,str]] = {}\n",
    "scheduleLoC: Dict[str, Dict[str,int]] =  {}\n",
    "halideAnn: Dict[str, int] = {}\n",
    "halideLoC: Dict[str, int]  = {}\n",
    "\n",
    "for name in versions:\n",
    "    fn = \"src/\" + name + \".cpp\" \n",
    "    anns, loc, sched_dict = count_cpp_file(fn)\n",
    "    halideAnn[name] = anns\n",
    "    halideLoC[name] = loc\n",
    "    \n",
    "    if sum(sched_dict[-1].values()) != 0:\n",
    "        print(f\"Found non-zero count for outside schedule for {name}: {sched_dict[-1]}\")\n",
    "    directivesUsed[name] = defaultdict(str)\n",
    "    scheduleLoC[name] = defaultdict(int)\n",
    "    for v in versions[name]:\n",
    "        directivesUsed[name][v] = get_directives(sched_dict[int(v)])\n",
    "        scheduleLoC[name][v] = sum(sched_dict[int(v)].values())"
   ]
  },
  {
   "cell_type": "code",
   "execution_count": 49,
   "id": "97f58487",
   "metadata": {},
   "outputs": [
    {
     "name": "stdout",
     "output_type": "stream",
     "text": [
      "inconsistent results for 'blur_3.c'\n",
      "avr_total, passes, fails,  timeouts, passtime, failtime: (96.95583856105804, 4, 0, 1, 96.95583856105804, None)\n",
      "inconsistent results for 'auto_viz_0.c'\n",
      "avr_total, passes, fails,  timeouts, passtime, failtime: (151.5906184911728, 2, 0, 3, 151.5906184911728, None)\n",
      "inconsistent results for 'auto_viz_2.c'\n",
      "avr_total, passes, fails,  timeouts, passtime, failtime: (229.82511369387308, 3, 0, 2, 229.82511369387308, None)\n",
      "inconsistent results for 'auto_viz_3.c'\n",
      "avr_total, passes, fails,  timeouts, passtime, failtime: (192.47571301460266, 4, 0, 1, 192.47571301460266, None)\n",
      "\\begin{tabular}{l l \\vbar \\vbar r r \\vbar r \\vbar r \\vbar r r r r \\vbar \\vbar r}\n",
      "\\hline Name & & \\multicolumn{2}{l\\vbar}{\\halide} & \\multicolumn{1}{l\\vbar}{Fr-end} & Sched. & \\multicolumn{3}{l}{\\C} & & LoA \\\\\n",
      "& & LoC & LoA & T. (s) & LoC & LoC & LoA & Loops & T. (s) & incr. \\\\ \\hline \\hline\n",
      "blur & V0 & 38 & 2 & 8 & 0 & 178 &63 &2 & 21 & 31.5x\\\\ \\hline\n",
      " & V1-\\{f,p\\} & \\ditto & \\ditto & \\ditto &2 &172 &58 &1 & 23 & 29.0x\\\\ \\hline\n",
      " & V2-\\{c,p,r,s\\} & \\ditto & \\ditto & \\ditto &6 &212 &83 &6 & 52 & 41.5x\\\\ \\hline\n",
      " & V3-\\{c,p,s,st,u\\} & \\ditto & \\ditto & \\ditto &8 &211 &79 &5 & 97$^{\\dag}$ & 39.5x\\\\ \\hline\n",
      "\\hline\n",
      "hist & V0 & 71 & 10 & 8 & 0 & 299 &118 &11 & 34 & 11.8x\\\\ \\hline\n",
      " & V1-\\{c,p,r,u\\} & \\ditto & \\ditto & \\ditto &4 &308 &118 &11 & 47 & 11.8x\\\\ \\hline\n",
      " & V2-\\{c,p,r,u\\} & \\ditto & \\ditto & \\ditto &6 &311 &123 &13 & 56 & 12.3x\\\\ \\hline\n",
      " & V3-\\{c,p,r,u\\} & \\ditto & \\ditto & \\ditto &13 &312 &125 &13 & 64 & 12.5x\\\\ \\hline\n",
      "\\hline\n",
      "conv\\_ & V0 & 44 & 7 & 8 & 0 & 273 &177 &7 & 111 & 25.3x\\\\ \\hline\n",
      "layer & V1-\\{c,f,p,u\\} & \\ditto & \\ditto & \\ditto &4 &281 &174 &8 & 108 & 24.9x\\\\ \\hline\n",
      " & V2-\\{p,r,s,u\\} & \\ditto & \\ditto & \\ditto &6 &302 &204 &10 & 283 & 29.1x\\\\ \\hline\n",
      " & V3-\\{c,p,r,s,u\\} & \\ditto & \\ditto & \\ditto &15 &279 &177 &7 & 207 & 25.3x\\\\ \\hline\n",
      "\\hline\n",
      "gemm & V0 & 70 & 12 & 7 & 0 & 218 &120 &3 & 43 & 10.0x\\\\ \\hline\n",
      " & V1-\\{c,p,r,s\\} & \\ditto & \\ditto & \\ditto &8 &274 &169 &10 & 133 & 14.1x\\\\ \\hline\n",
      " & V2-\\{c,p,r,s\\} & \\ditto & \\ditto & \\ditto &16 &342 &230 &19 & 368 & 19.2x\\\\ \\hline\n",
      " & V3-\\{c,f,p,r,s,u\\} & \\ditto & \\ditto & \\ditto &24 &451 &310 &31 & F & 25.8x\\\\ \\hline\n",
      "\\hline\n",
      "auto\\_ & V0 & 112 & 15 & 8 & 0 & 443 &158 &19 & 152$^{\\dag}$ & 10.5x\\\\ \\hline\n",
      "viz & V1-\\{c\\} & \\ditto & \\ditto & \\ditto &9 &402 &210 &23 & 216 & 14.0x\\\\ \\hline\n",
      " & V2-\\{c,p\\} & \\ditto & \\ditto & \\ditto &12 &440 &235 &27 & 230$^{\\dag}$ & 15.7x\\\\ \\hline\n",
      " & V3-\\{c,p,r,s\\} & \\ditto & \\ditto & \\ditto &27 &443 &229 &25 & 192$^{\\dag}$ & 15.3x\\\\ \\hline\n",
      "\\hline\n",
      "\\end{tabular}\n"
     ]
    }
   ],
   "source": [
    "print(experiments.make_table(directivesUsed, halideLoC, halideAnn, scheduleLoC))"
   ]
  },
  {
   "cell_type": "code",
   "execution_count": 50,
   "id": "6d3be9f7",
   "metadata": {},
   "outputs": [
    {
     "name": "stdout",
     "output_type": "stream",
     "text": [
      "Found non-zero count for outside schedule for bilateral_grid: Counter({'bound': 4})\n"
     ]
    }
   ],
   "source": [
    "directivesUsedMem : Dict[str, Dict[str,str]] = {}\n",
    "scheduleLoCMem: Dict[str, Dict[str,int]] = {}\n",
    "halideLoCMem: Dict[str, int]  = {}\n",
    "\n",
    "for name in versionsMem:\n",
    "    fn = \"src/\" + name + \".cpp\" \n",
    "    anns, loc, sched_dict = count_cpp_file(fn)\n",
    "    halideLoCMem[name] = loc\n",
    "    \n",
    "    if sum(sched_dict[-1].values()) != 0:\n",
    "        print(f\"Found non-zero count for outside schedule for {name}: {sched_dict[-1]}\")\n",
    "    directivesUsedMem[name] = { }\n",
    "    scheduleLoCMem[name] = {}\n",
    "    for v in versionsMem[name]:\n",
    "        version = int(v) if v != \"\" else 0\n",
    "        directivesUsedMem[name][v] = get_directives(sched_dict[version])\n",
    "        scheduleLoCMem[name][v] = sum(sched_dict[version].values())"
   ]
  },
  {
   "cell_type": "code",
   "execution_count": 55,
   "id": "5c84fd89",
   "metadata": {},
   "outputs": [
    {
     "name": "stdout",
     "output_type": "stream",
     "text": [
      "inconsistent results for 'gemm_2_mem.c'\n",
      "avr_total, passes, fails,  timeouts, passtime, failtime: (196.43292951583862, 4, 1, 0, 196.250727891922, 197.16173601150513)\n"
     ]
    }
   ],
   "source": [
    "header0 = r\"\\begin{tabular}{l l \\vbar \\vbar r \\vbar r \\vbar r r r r}\"\n",
    "header1 = r\"\\hline \\textbf{Name} & & \\multicolumn{1}{l\\vbar}{\\textbf{\\halide}} & \\textbf{\\textbf{Sched}}. & \\multicolumn{3}{l}{\\textbf{\\c}} & \\\\\"\n",
    "header2 = r\"& & \\textbf{LoC} & \\textbf{Dir.} & \\textbf{LoC} & \\textbf{Ann.} & \\textbf{Loops} & \\textbf{T. (s).} \\\\ \\hline \\hline\"\n",
    "\n",
    "rows: List[str] = [header0, header1, header2]\n",
    "for name in versionsMem:\n",
    "    for v in versionsMem[name]:\n",
    "        filename = experiments.version_to_file_name(name, v, True)\n",
    "        solo_bench = len(versionsMem[name]) == 1\n",
    "        vname = \"\" if solo_bench == 1 else \"V\" + v\n",
    "        row = \"\"\n",
    "        if v == versionsMem[name][0]:\n",
    "            shortname = name\n",
    "            if name == 'conv_layer':\n",
    "                shortname = 'conv\\_'\n",
    "            if name == 'auto_viz':\n",
    "                shortname = 'auto\\_'\n",
    "            LoC = \"?\" if solo_bench else \"0\"\n",
    "            if solo_bench:\n",
    "                row += \"\\multicolumn{2}{l \\\\vbar \\\\vbar}{\" + shortname.replace('_', '\\_') + f\"-{directivesUsedMem[name][v]} }} &\"\n",
    "            else:\n",
    "                row += f\"{shortname} & {vname} &\"\n",
    "            row += f\" {halideLoCMem[name]} & {scheduleLoCMem[name][v]} & \"\n",
    "        else:\n",
    "            if name == 'conv_layer' and v == versionsMem[name][1]:\n",
    "                row += \"layer\"\n",
    "            if name == 'auto_viz' and v == versionsMem[name][1]:\n",
    "                row += \"viz\"\n",
    "            row += f\" & {vname}-{directivesUsedMem[name][v]} & \\ditto &\"\n",
    "            row += f\"{scheduleLoCMem[name][v]} &\"\n",
    "\n",
    "        full_name = name + '-' + v\n",
    "\n",
    "        row += f\"{experiments.line_infos[filename].lines_of_code} &\"\n",
    "        row += f\"{experiments.line_infos[filename].nr_annotations} &\" \n",
    "        row += f\"{experiments.line_infos[filename].loops} & \"\n",
    "\n",
    "        res = experiments.verification_times[filename]\n",
    "        row += average_to_str(res, filename)\n",
    "        row += r\"\\\\ \\hline\"\n",
    "        rows.append(row)\n",
    "    rows.append (\"\\hline\")\n",
    "rows.append(r\"\\end{tabular}\")\n",
    "mem_table = \"\\n\".join(rows)"
   ]
  },
  {
   "cell_type": "code",
   "execution_count": 56,
   "id": "affeb1f8",
   "metadata": {},
   "outputs": [
    {
     "name": "stdout",
     "output_type": "stream",
     "text": [
      "\\begin{tabular}{l l \\vbar \\vbar r \\vbar r \\vbar r r r r}\n",
      "\\hline \\textbf{Name} & & \\multicolumn{1}{l\\vbar}{\\textbf{\\halide}} & \\textbf{\\textbf{Sched}}. & \\multicolumn{3}{l}{\\textbf{\\c}} & \\\\\n",
      "& & \\textbf{LoC} & \\textbf{Dir.} & \\textbf{LoC} & \\textbf{Ann.} & \\textbf{Loops} & \\textbf{T. (s).} \\\\ \\hline \\hline\n",
      "blur & V0 & 38 & 0 & 178 &60 &2 & 18\\\\ \\hline\n",
      " & V1-\\{f,p\\} & \\ditto &2 &172 &56 &1 & 19\\\\ \\hline\n",
      " & V2-\\{c,p,r,s\\} & \\ditto &6 &212 &74 &6 & 29\\\\ \\hline\n",
      " & V3-\\{c,p,s,st,u\\} & \\ditto &8 &211 &72 &5 & 24\\\\ \\hline\n",
      "\\hline\n",
      "hist & V0 & 71 & 2 & 299 &98 &11 & 30\\\\ \\hline\n",
      " & V1-\\{c,p,r,u\\} & \\ditto &4 &308 &99 &11 & 38\\\\ \\hline\n",
      " & V2-\\{c,p,r,u\\} & \\ditto &6 &311 &105 &13 & 48\\\\ \\hline\n",
      " & V3-\\{c,p,r,u\\} & \\ditto &13 &312 &101 &13 & 48\\\\ \\hline\n",
      "\\hline\n",
      "conv\\_ & V0 & 44 & 0 & 273 &148 &7 & 90\\\\ \\hline\n",
      "layer & V1-\\{c,f,p,u\\} & \\ditto &4 &281 &145 &8 & 97\\\\ \\hline\n",
      " & V2-\\{p,r,s,u\\} & \\ditto &6 &302 &166 &10 & 209\\\\ \\hline\n",
      " & V3-\\{c,p,r,s,u\\} & \\ditto &15 &279 &148 &7 & 168\\\\ \\hline\n",
      "\\hline\n",
      "gemm & V0 & 70 & 0 & 218 &105 &3 & 41\\\\ \\hline\n",
      " & V1-\\{c,p,r,s\\} & \\ditto &8 &274 &136 &10 & 89\\\\ \\hline\n",
      " & V2-\\{c,p,r,s\\} & \\ditto &16 &342 &173 &19 & 196$^{\\dag}$\\\\ \\hline\n",
      " & V3-\\{c,f,p,r,s,u\\} & \\ditto &24 &451 &221 &31 & F\\\\ \\hline\n",
      "\\hline\n",
      "auto\\_ & V0 & 112 & 0 & 443 &118 &19 & 35\\\\ \\hline\n",
      "viz & V1-\\{c\\} & \\ditto &9 &402 &139 &23 & 180\\\\ \\hline\n",
      " & V2-\\{c,p\\} & \\ditto &12 &440 &156 &27 & 170\\\\ \\hline\n",
      " & V3-\\{c,p,r,s\\} & \\ditto &27 &443 &152 &25 & 105\\\\ \\hline\n",
      "\\hline\n",
      "\\multicolumn{2}{l \\vbar \\vbar}{camera\\_pipe-\\{c,p,r,s,st\\} } & 345 & 27 & 701 &236 &25 & F\\\\ \\hline\n",
      "\\hline\n",
      "\\multicolumn{2}{l \\vbar \\vbar}{bilateral\\_grid-\\{c,p,r,u\\} } & 88 & 18 & 562 &180 &39 & 140\\\\ \\hline\n",
      "\\hline\n",
      "\\multicolumn{2}{l \\vbar \\vbar}{depthwise\\_separable\\_conv-\\{c,p,r,s\\} } & 94 & 13 & 562 &315 &44 & 480\\\\ \\hline\n",
      "\\hline\n",
      "\\end{tabular}\n"
     ]
    }
   ],
   "source": [
    "print(mem_table)"
   ]
  },
  {
   "cell_type": "code",
   "execution_count": 53,
   "id": "8d1636ed",
   "metadata": {},
   "outputs": [],
   "source": [
    "with open(\"result_table_mem.tex\", \"w\") as f:\n",
    "    f.write(mem_table)"
   ]
  },
  {
   "cell_type": "code",
   "execution_count": 54,
   "id": "521ad2ff",
   "metadata": {},
   "outputs": [
    {
     "name": "stderr",
     "output_type": "stream",
     "text": [
      "<cell>3: \u001b[1m\u001b[31merror:\u001b[m Call to untyped function \u001b[m\u001b[1m\"PDF\"\u001b[m in typed context  \u001b[m\u001b[33m[no-untyped-call]\u001b[m\n"
     ]
    },
    {
     "name": "stdout",
     "output_type": "stream",
     "text": [
      "inconsistent results for 'blur_3.c'\n",
      "avr_total, passes, fails,  timeouts, passtime, failtime: (96.95583856105804, 4, 0, 1, 96.95583856105804, None)\n",
      "inconsistent results for 'auto_viz_0.c'\n",
      "avr_total, passes, fails,  timeouts, passtime, failtime: (151.5906184911728, 2, 0, 3, 151.5906184911728, None)\n",
      "inconsistent results for 'auto_viz_2.c'\n",
      "avr_total, passes, fails,  timeouts, passtime, failtime: (229.82511369387308, 3, 0, 2, 229.82511369387308, None)\n",
      "inconsistent results for 'auto_viz_3.c'\n",
      "avr_total, passes, fails,  timeouts, passtime, failtime: (192.47571301460266, 4, 0, 1, 192.47571301460266, None)\n",
      "This is pdfTeX, Version 3.141592653-2.6-1.40.25 (TeX Live 2023) (preloaded format=pdflatex)\n",
      " restricted \\write18 enabled.\n",
      "entering extended mode\n",
      "(./table.tex\n",
      "LaTeX2e <2022-11-01> patch level 1\n",
      "L3 programming layer <2023-03-30>\n",
      "(/usr/local/texlive/2023/texmf-dist/tex/latex/base/article.cls\n",
      "Document Class: article 2022/07/02 v1.4n Standard LaTeX document class\n",
      "(/usr/local/texlive/2023/texmf-dist/tex/latex/base/size10.clo))\n",
      "(/usr/local/texlive/2023/texmf-dist/tex/latex/base/fontenc.sty)\n",
      "(/usr/local/texlive/2023/texmf-dist/tex/latex/tools/xspace.sty)\n",
      "(/usr/local/texlive/2023/texmf-dist/tex/latex/preprint/fullpage.sty)\n",
      "(/usr/local/texlive/2023/texmf-dist/tex/latex/l3backend/l3backend-pdftex.def)\n",
      "(./table.aux) (/usr/local/texlive/2023/texmf-dist/tex/latex/base/t1cmtt.fd)\n",
      "(./result_table_mem.tex) (./result_table.tex) [1{/usr/local/texlive/2023/texmf-\n",
      "var/fonts/map/pdftex/updmap/pdftex.map}{/usr/local/texlive/2023/texmf-dist/font\n",
      "s/enc/dvips/cm-super/cm-super-t1.enc}] [2] (./table.aux) )</usr/local/texlive/2\n",
      "023/texmf-dist/fonts/type1/public/amsfonts/cm/cmsy7.pfb></usr/local/texlive/202\n",
      "3/texmf-dist/fonts/type1/public/cm-super/sfbx1000.pfb></usr/local/texlive/2023/\n",
      "texmf-dist/fonts/type1/public/cm-super/sfcc1000.pfb></usr/local/texlive/2023/te\n",
      "xmf-dist/fonts/type1/public/cm-super/sfrm1000.pfb></usr/local/texlive/2023/texm\n",
      "f-dist/fonts/type1/public/cm-super/sftt1000.pfb></usr/local/texlive/2023/texmf-\n",
      "dist/fonts/type1/public/cm-super/sfxc1000.pfb>\n",
      "Output written on table.pdf (2 pages, 94790 bytes).\n",
      "Transcript written on table.log.\n"
     ]
    },
    {
     "data": {
      "text/html": [
       "<iframe src=table.pdf width=950 height=500></iframe>"
      ],
      "text/plain": [
       "<preprocess.PDF at 0x7ff2c9bc6190>"
      ]
     },
     "execution_count": 54,
     "metadata": {},
     "output_type": "execute_result"
    }
   ],
   "source": [
    "experiments.save_table(directivesUsed, halideLoC, halideAnn, scheduleLoC)\n",
    "!pdflatex table.tex\n",
    "PDF('table.pdf',size=(950,500))"
   ]
  },
  {
   "cell_type": "markdown",
   "id": "d953ef88",
   "metadata": {},
   "source": [
    "# End"
   ]
  }
 ],
 "metadata": {
  "kernelspec": {
   "display_name": "Python 3 (ipykernel)",
   "language": "python",
   "name": "python3"
  },
  "language_info": {
   "codemirror_mode": {
    "name": "ipython",
    "version": 3
   },
   "file_extension": ".py",
   "mimetype": "text/x-python",
   "name": "python",
   "nbconvert_exporter": "python",
   "pygments_lexer": "ipython3",
   "version": "3.11.4"
  }
 },
 "nbformat": 4,
 "nbformat_minor": 5
}
