{
 "cells": [
  {
   "cell_type": "markdown",
   "id": "english-driving",
   "metadata": {},
   "source": [
    "# Experiments for HaliVer"
   ]
  },
  {
   "cell_type": "code",
   "execution_count": 1,
   "id": "classified-treasure",
   "metadata": {},
   "outputs": [],
   "source": [
    "from preprocess import *\n",
    "from typing import List, Optional, Dict, Tuple, Any, Union\n",
    "import time\n",
    "import datetime"
   ]
  },
  {
   "cell_type": "code",
   "execution_count": 2,
   "id": "unsigned-salmon",
   "metadata": {},
   "outputs": [],
   "source": [
    "n = 5 # repetitions\n",
    "t = 10*60 # timeout\n",
    "load_results = True # If this is true, we do not run experiments, but only load them from file\n",
    "load_prefix = \"results/2023-05-12-23-10\"\n",
    "save_prefix = \"results/\" + datetime.datetime.now().strftime('%Y-%m-%d-%H-%M')"
   ]
  },
  {
   "cell_type": "code",
   "execution_count": 3,
   "id": "adaptive-surface",
   "metadata": {},
   "outputs": [],
   "source": [
    "versions: Dict[str, List[str]] = {\n",
    "    'blur' : ['0','1','2','3'],\n",
    "    'hist' : ['0','1','2','3'],\n",
    "    'conv_layer' : ['0','1','2','3'],\n",
    "    'gemm' : ['0','1','2','3'],\n",
    "    'auto_viz' : ['0','1','2','3'],\n",
    "}\n",
    "\n",
    "versionsMem: Dict[str, List[str]] = {\n",
    "    'blur' : ['0','1','2','3'],\n",
    "    'hist' : ['0','1','2','3'],\n",
    "    'conv_layer' : ['0','1','2','3'],\n",
    "    'gemm' : ['0','1','2','3'],\n",
    "    'auto_viz' : ['0','1','2','3'],\n",
    "    'camera_pipe' : [''],\n",
    "    'bilateral_grid' : [''],\n",
    "    'depthwise_separable_conv' : [''],\n",
    "}\n",
    "experiments = Experiments(versions, versionsMem, repetitions = n, timeout = t)"
   ]
  },
  {
   "cell_type": "code",
   "execution_count": 4,
   "id": "e9657d30",
   "metadata": {},
   "outputs": [
    {
     "name": "stdout",
     "output_type": "stream",
     "text": [
      "[  3%] Built target blur\n",
      "[ 10%] Built target blur_pvl\n",
      "[ 17%] Built target blur_pvl_mem\n",
      "[ 20%] Built target hist\n",
      "[ 28%] Built target hist_pvl\n",
      "[ 34%] Built target hist_pvl_mem\n",
      "[ 37%] Built target conv_layer\n",
      "[ 45%] Built target conv_layer_pvl\n",
      "[ 51%] Built target conv_layer_pvl_mem\n",
      "[ 54%] Built target gemm\n",
      "[ 62%] Built target gemm_pvl\n",
      "[ 68%] Built target gemm_pvl_mem\n",
      "[ 71%] Built target auto_viz\n",
      "[ 79%] Built target auto_viz_pvl\n",
      "[ 85%] Built target auto_viz_pvl_mem\n",
      "[ 89%] Built target bilateral_grid\n",
      "[ 90%] Built target bilateral_grid_pvl\n",
      "[ 93%] Built target camera_pipe\n",
      "[ 95%] Built target camera_pipe_pvl\n",
      "[ 98%] Built target depthwise_separable_conv\n",
      "[100%] Built target depthwise_separable_conv_pvl\n"
     ]
    }
   ],
   "source": [
    "!cmake --build build"
   ]
  },
  {
   "cell_type": "code",
   "execution_count": 5,
   "id": "b1e35e9a",
   "metadata": {},
   "outputs": [
    {
     "name": "stdout",
     "output_type": "stream",
     "text": [
      "blur_0.pvl\n",
      "Code: 121\n",
      "Annotations:59\n",
      "Loops: 2\n",
      "blur_1.pvl\n",
      "Code: 116\n",
      "Annotations:54\n",
      "Loops: 1\n",
      "blur_2.pvl\n",
      "Code: 145\n",
      "Annotations:79\n",
      "Loops: 6\n",
      "blur_3.pvl\n",
      "Code: 145\n",
      "Annotations:75\n",
      "Loops: 5\n",
      "blur_front.pvl\n",
      "Code: 83\n",
      "Annotations:3\n",
      "Loops: 0\n",
      "hist_0.pvl\n",
      "Code: 199\n",
      "Annotations:112\n",
      "Loops: 11\n",
      "hist_1.pvl\n",
      "Code: 207\n",
      "Annotations:112\n",
      "Loops: 11\n",
      "hist_2.pvl\n",
      "Code: 205\n",
      "Annotations:117\n",
      "Loops: 13\n",
      "hist_3.pvl\n",
      "Code: 192\n",
      "Annotations:119\n",
      "Loops: 13\n",
      "hist_front.pvl\n",
      "Code: 134\n",
      "Annotations:14\n",
      "Loops: 0\n",
      "conv_layer_0.pvl\n",
      "Code: 181\n",
      "Annotations:158\n",
      "Loops: 7\n",
      "conv_layer_1.pvl\n",
      "Code: 186\n",
      "Annotations:155\n",
      "Loops: 8\n",
      "conv_layer_2.pvl\n",
      "Code: 201\n",
      "Annotations:185\n",
      "Loops: 10\n",
      "conv_layer_3.pvl\n",
      "Code: 185\n",
      "Annotations:158\n",
      "Loops: 7\n",
      "conv_layer_front.pvl\n",
      "Code: 155\n",
      "Annotations:11\n",
      "Loops: 0\n",
      "gemm_0.pvl\n",
      "Code: 149\n",
      "Annotations:106\n",
      "Loops: 3\n",
      "gemm_1.pvl\n",
      "Code: 186\n",
      "Annotations:155\n",
      "Loops: 10\n",
      "gemm_2.pvl\n",
      "Code: 236\n",
      "Annotations:216\n",
      "Loops: 19\n",
      "gemm_3.pvl\n",
      "Code: 322\n",
      "Annotations:296\n",
      "Loops: 31\n",
      "gemm_front.pvl\n",
      "Code: 140\n",
      "Annotations:14\n",
      "Loops: 0\n",
      "auto_viz_0.pvl\n",
      "Code: 295\n",
      "Annotations:152\n",
      "Loops: 19\n",
      "auto_viz_1.pvl\n",
      "Code: 281\n",
      "Annotations:204\n",
      "Loops: 23\n",
      "auto_viz_2.pvl\n",
      "Code: 303\n",
      "Annotations:229\n",
      "Loops: 27\n",
      "auto_viz_3.pvl\n",
      "Code: 304\n",
      "Annotations:223\n",
      "Loops: 25\n",
      "auto_viz_front.pvl\n",
      "Code: 161\n",
      "Annotations:28\n",
      "Loops: 0\n",
      "blur_0_mem.pvl\n",
      "Code: 121\n",
      "Annotations:56\n",
      "Loops: 2\n",
      "blur_1_mem.pvl\n",
      "Code: 116\n",
      "Annotations:52\n",
      "Loops: 1\n",
      "blur_2_mem.pvl\n",
      "Code: 145\n",
      "Annotations:70\n",
      "Loops: 6\n",
      "blur_3_mem.pvl\n",
      "Code: 145\n",
      "Annotations:68\n",
      "Loops: 5\n",
      "hist_0_mem.pvl\n",
      "Code: 199\n",
      "Annotations:92\n",
      "Loops: 11\n",
      "hist_1_mem.pvl\n",
      "Code: 207\n",
      "Annotations:93\n",
      "Loops: 11\n",
      "hist_2_mem.pvl\n",
      "Code: 205\n",
      "Annotations:99\n",
      "Loops: 13\n",
      "hist_3_mem.pvl\n",
      "Code: 192\n",
      "Annotations:95\n",
      "Loops: 13\n",
      "conv_layer_0_mem.pvl\n",
      "Code: 181\n",
      "Annotations:129\n",
      "Loops: 7\n",
      "conv_layer_1_mem.pvl\n",
      "Code: 186\n",
      "Annotations:126\n",
      "Loops: 8\n",
      "conv_layer_2_mem.pvl\n",
      "Code: 201\n",
      "Annotations:147\n",
      "Loops: 10\n",
      "conv_layer_3_mem.pvl\n",
      "Code: 185\n",
      "Annotations:129\n",
      "Loops: 7\n",
      "gemm_0_mem.pvl\n",
      "Code: 149\n",
      "Annotations:91\n",
      "Loops: 3\n",
      "gemm_1_mem.pvl\n",
      "Code: 186\n",
      "Annotations:122\n",
      "Loops: 10\n",
      "gemm_2_mem.pvl\n",
      "Code: 236\n",
      "Annotations:159\n",
      "Loops: 19\n",
      "gemm_3_mem.pvl\n",
      "Code: 322\n",
      "Annotations:207\n",
      "Loops: 31\n",
      "auto_viz_0_mem.pvl\n",
      "Code: 295\n",
      "Annotations:112\n",
      "Loops: 19\n",
      "auto_viz_1_mem.pvl\n",
      "Code: 281\n",
      "Annotations:133\n",
      "Loops: 23\n",
      "auto_viz_2_mem.pvl\n",
      "Code: 303\n",
      "Annotations:150\n",
      "Loops: 27\n",
      "auto_viz_3_mem.pvl\n",
      "Code: 304\n",
      "Annotations:146\n",
      "Loops: 25\n",
      "camera_pipe_mem.pvl\n",
      "Code: 326\n",
      "Annotations:181\n",
      "Loops: 25\n",
      "bilateral_grid_mem.pvl\n",
      "Code: 365\n",
      "Annotations:176\n",
      "Loops: 39\n",
      "depthwise_separable_conv_mem.pvl\n",
      "Code: 383\n",
      "Annotations:291\n",
      "Loops: 44\n"
     ]
    }
   ],
   "source": [
    "experiments.count_files()"
   ]
  },
  {
   "cell_type": "markdown",
   "id": "antique-quarterly",
   "metadata": {},
   "source": [
    "## Blur"
   ]
  },
  {
   "cell_type": "code",
   "execution_count": 6,
   "id": "fatal-screw",
   "metadata": {},
   "outputs": [],
   "source": [
    "name = 'blur'"
   ]
  },
  {
   "cell_type": "code",
   "execution_count": 7,
   "id": "extra-kidney",
   "metadata": {},
   "outputs": [],
   "source": [
    "if(not load_results):\n",
    "    experiments.front_end(name)"
   ]
  },
  {
   "cell_type": "code",
   "execution_count": 8,
   "id": "reported-formula",
   "metadata": {
    "scrolled": true
   },
   "outputs": [],
   "source": [
    "if(not load_results):\n",
    "    experiments.back_end(name)"
   ]
  },
  {
   "cell_type": "code",
   "execution_count": 9,
   "id": "1513005b",
   "metadata": {},
   "outputs": [],
   "source": [
    "if(not load_results):\n",
    "    experiments.back_end(name, mem=True)"
   ]
  },
  {
   "cell_type": "code",
   "execution_count": 10,
   "id": "d924ba6f",
   "metadata": {},
   "outputs": [],
   "source": [
    "if(not load_results):\n",
    "    experiments.save_results(save_prefix)"
   ]
  },
  {
   "cell_type": "markdown",
   "id": "literary-following",
   "metadata": {},
   "source": [
    "## Hist"
   ]
  },
  {
   "cell_type": "code",
   "execution_count": 11,
   "id": "premier-novelty",
   "metadata": {},
   "outputs": [],
   "source": [
    "name = 'hist'"
   ]
  },
  {
   "cell_type": "code",
   "execution_count": 12,
   "id": "d084003e",
   "metadata": {},
   "outputs": [],
   "source": [
    "if(not load_results):\n",
    "    experiments.front_end(name)"
   ]
  },
  {
   "cell_type": "code",
   "execution_count": 13,
   "id": "97f127ae",
   "metadata": {
    "scrolled": true
   },
   "outputs": [],
   "source": [
    "if(not load_results):\n",
    "    experiments.back_end(name)"
   ]
  },
  {
   "cell_type": "code",
   "execution_count": 14,
   "id": "1881e554",
   "metadata": {},
   "outputs": [],
   "source": [
    "if(not load_results):\n",
    "    experiments.back_end(name, mem=True)"
   ]
  },
  {
   "cell_type": "code",
   "execution_count": 15,
   "id": "578009a5",
   "metadata": {},
   "outputs": [],
   "source": [
    "if(not load_results):\n",
    "    experiments.save_results(save_prefix)"
   ]
  },
  {
   "cell_type": "markdown",
   "id": "finnish-opening",
   "metadata": {},
   "source": [
    "## Conv"
   ]
  },
  {
   "cell_type": "code",
   "execution_count": 16,
   "id": "personalized-principal",
   "metadata": {},
   "outputs": [],
   "source": [
    "name = 'conv_layer'"
   ]
  },
  {
   "cell_type": "code",
   "execution_count": 17,
   "id": "79f7eec3",
   "metadata": {},
   "outputs": [],
   "source": [
    "if(not load_results):\n",
    "    experiments.front_end(name)"
   ]
  },
  {
   "cell_type": "code",
   "execution_count": 18,
   "id": "c761cc37",
   "metadata": {
    "scrolled": true
   },
   "outputs": [],
   "source": [
    "if(not load_results):\n",
    "    experiments.back_end(name)"
   ]
  },
  {
   "cell_type": "code",
   "execution_count": 19,
   "id": "10909124",
   "metadata": {},
   "outputs": [],
   "source": [
    "if(not load_results):\n",
    "    experiments.back_end(name, mem=True)"
   ]
  },
  {
   "cell_type": "code",
   "execution_count": 20,
   "id": "c67e7661",
   "metadata": {},
   "outputs": [],
   "source": [
    "if(not load_results):\n",
    "    experiments.save_results(save_prefix)"
   ]
  },
  {
   "cell_type": "markdown",
   "id": "executed-blowing",
   "metadata": {
    "slideshow": {
     "slide_type": ""
    }
   },
   "source": [
    "## Gemm"
   ]
  },
  {
   "cell_type": "code",
   "execution_count": 21,
   "id": "suited-argument",
   "metadata": {},
   "outputs": [],
   "source": [
    "name = 'gemm'"
   ]
  },
  {
   "cell_type": "code",
   "execution_count": 22,
   "id": "24e9e255",
   "metadata": {},
   "outputs": [],
   "source": [
    "if(not load_results):\n",
    "    experiments.front_end(name)"
   ]
  },
  {
   "cell_type": "code",
   "execution_count": 23,
   "id": "ed9b1104",
   "metadata": {
    "scrolled": true
   },
   "outputs": [],
   "source": [
    "if(not load_results):\n",
    "    experiments.back_end(name)"
   ]
  },
  {
   "cell_type": "code",
   "execution_count": 24,
   "id": "db5cd986",
   "metadata": {},
   "outputs": [],
   "source": [
    "if(not load_results):\n",
    "    experiments.back_end(name, mem=True)"
   ]
  },
  {
   "cell_type": "code",
   "execution_count": 25,
   "id": "b9834f1b",
   "metadata": {},
   "outputs": [],
   "source": [
    "if(not load_results):\n",
    "    experiments.save_results(save_prefix)"
   ]
  },
  {
   "cell_type": "markdown",
   "id": "485b6b16",
   "metadata": {
    "slideshow": {
     "slide_type": ""
    }
   },
   "source": [
    "## Auto_viz"
   ]
  },
  {
   "cell_type": "code",
   "execution_count": 26,
   "id": "26a57a74",
   "metadata": {},
   "outputs": [],
   "source": [
    "name = 'auto_viz'"
   ]
  },
  {
   "cell_type": "code",
   "execution_count": 27,
   "id": "cc357350",
   "metadata": {},
   "outputs": [],
   "source": [
    "if(not load_results):\n",
    "    experiments.front_end(name)"
   ]
  },
  {
   "cell_type": "code",
   "execution_count": 28,
   "id": "47c3f281",
   "metadata": {
    "scrolled": true
   },
   "outputs": [],
   "source": [
    "if(not load_results):\n",
    "    experiments.back_end(name)"
   ]
  },
  {
   "cell_type": "code",
   "execution_count": 29,
   "id": "353c7ea3",
   "metadata": {},
   "outputs": [],
   "source": [
    "if(not load_results):\n",
    "    experiments.back_end(name, mem=True)"
   ]
  },
  {
   "cell_type": "code",
   "execution_count": 30,
   "id": "dcdd200f",
   "metadata": {},
   "outputs": [],
   "source": [
    "if(not load_results):\n",
    "    experiments.save_results(save_prefix)"
   ]
  },
  {
   "cell_type": "markdown",
   "id": "43c4dede",
   "metadata": {
    "slideshow": {
     "slide_type": ""
    }
   },
   "source": [
    "## camera_pipeline"
   ]
  },
  {
   "cell_type": "code",
   "execution_count": 31,
   "id": "08c0dd7d",
   "metadata": {},
   "outputs": [],
   "source": [
    "name = 'camera_pipe'"
   ]
  },
  {
   "cell_type": "code",
   "execution_count": 32,
   "id": "334c0ec6",
   "metadata": {},
   "outputs": [],
   "source": [
    "def version_to_file_name(name: str, version: str, mem: bool = False) -> str:\n",
    "        return name + ('_' + version if version != '' else '') + ('_mem' if mem else '') + '.pvl'\n",
    "experiments.version_to_file_name = version_to_file_name"
   ]
  },
  {
   "cell_type": "code",
   "execution_count": 33,
   "id": "5ade64e7",
   "metadata": {
    "scrolled": true
   },
   "outputs": [],
   "source": [
    "if(not load_results):\n",
    "    experiments.back_end(name, mem=True)"
   ]
  },
  {
   "cell_type": "code",
   "execution_count": 34,
   "id": "24d4c336",
   "metadata": {},
   "outputs": [],
   "source": [
    "if(not load_results):\n",
    "    experiments.save_results(save_prefix)"
   ]
  },
  {
   "cell_type": "markdown",
   "id": "b238c45e",
   "metadata": {
    "slideshow": {
     "slide_type": ""
    }
   },
   "source": [
    "## bilateral_grid"
   ]
  },
  {
   "cell_type": "code",
   "execution_count": 35,
   "id": "49335509",
   "metadata": {},
   "outputs": [],
   "source": [
    "name = 'bilateral_grid'"
   ]
  },
  {
   "cell_type": "code",
   "execution_count": 36,
   "id": "4c40c438",
   "metadata": {
    "scrolled": true
   },
   "outputs": [],
   "source": [
    "if(not load_results):\n",
    "    experiments.back_end(name, mem=True)"
   ]
  },
  {
   "cell_type": "code",
   "execution_count": 37,
   "id": "7a13799c",
   "metadata": {},
   "outputs": [],
   "source": [
    "if(not load_results):\n",
    "    experiments.save_results(save_prefix)"
   ]
  },
  {
   "cell_type": "markdown",
   "id": "31839723",
   "metadata": {
    "slideshow": {
     "slide_type": ""
    }
   },
   "source": [
    "## depthwise_separable_conv"
   ]
  },
  {
   "cell_type": "code",
   "execution_count": 38,
   "id": "dc072130",
   "metadata": {},
   "outputs": [],
   "source": [
    "name = 'depthwise_separable_conv'"
   ]
  },
  {
   "cell_type": "code",
   "execution_count": 39,
   "id": "e637ee16",
   "metadata": {
    "scrolled": true
   },
   "outputs": [],
   "source": [
    "if(not load_results):\n",
    "    experiments.back_end(name, mem=True)"
   ]
  },
  {
   "cell_type": "code",
   "execution_count": 40,
   "id": "c8a23706",
   "metadata": {},
   "outputs": [],
   "source": [
    "if(not load_results):\n",
    "    experiments.save_results(save_prefix)"
   ]
  },
  {
   "cell_type": "markdown",
   "id": "inclusive-distinction",
   "metadata": {},
   "source": [
    "# Result table"
   ]
  },
  {
   "cell_type": "code",
   "execution_count": 41,
   "id": "f40158c4",
   "metadata": {},
   "outputs": [],
   "source": [
    "if(load_results):\n",
    "    experiments.load_results(load_prefix)"
   ]
  },
  {
   "cell_type": "code",
   "execution_count": 42,
   "id": "7546d640",
   "metadata": {},
   "outputs": [],
   "source": [
    "from collections import Counter"
   ]
  },
  {
   "cell_type": "code",
   "execution_count": 43,
   "id": "bd397e43",
   "metadata": {},
   "outputs": [],
   "source": [
    "def count_schedule_directives(line: str)-> Counter[str]:\n",
    "    directives = {\"parallel\", \"vectorize\", \"unroll\", \n",
    "                  \"split\", \"tile\" , \"fuse\", \"reorder\",\n",
    "                  \"compute_root\", \"compute_at\",\n",
    "                  \"store_at\", \"store_root\",\n",
    "                  \"fold_storage\",\"compute_with\",\"prefetch\",\n",
    "                  \"bound_extent\", \"bound\", \"rename\", \"update\"}\n",
    "    result = Counter()\n",
    "    for d in directives:\n",
    "        i = line.count(\".\"+d+\"(\")\n",
    "        if(i > 0):\n",
    "            result[d] += 1\n",
    "    return result"
   ]
  },
  {
   "cell_type": "code",
   "execution_count": 44,
   "id": "44640b41",
   "metadata": {},
   "outputs": [],
   "source": [
    "def count_annotations(line: str)->int:\n",
    "    directives = {\"ensures\", \"context\", \"requires\", \"invariant\"}\n",
    "    result = 0\n",
    "    for d in directives:\n",
    "        result += line.count(d+\"(\")\n",
    "    return result"
   ]
  },
  {
   "cell_type": "code",
   "execution_count": 45,
   "id": "8ac1c20c",
   "metadata": {},
   "outputs": [],
   "source": [
    "def is_schedule(line: str)-> Optional[int]:\n",
    "    l = line.strip()\n",
    "    schedule = 0\n",
    "    if(l == \"/* End Schedule */\"):\n",
    "        return -1\n",
    "    elif(l == \"/* Schedule */\"):\n",
    "        return 0\n",
    "    elif(l.startswith(\"/* Schedule\") and l.endswith(\"*/\")):\n",
    "        l = l[len(\"/* Schedule\"):-2]\n",
    "        try:\n",
    "            return int(l)\n",
    "        except:\n",
    "            print(f\"Error reading line {line}\")\n",
    "            return 0\n",
    "    else:\n",
    "        return None"
   ]
  },
  {
   "cell_type": "code",
   "execution_count": 46,
   "id": "6d07c22b",
   "metadata": {},
   "outputs": [],
   "source": [
    "def count_cpp_file(f: str)-> Tuple[int, int, Dict[int, Counter[str]]]:\n",
    "    anns = 0\n",
    "    sched = 0\n",
    "    sched_dict = {-1: Counter(), 0: Counter(), 1: Counter(), 2: Counter(), 3: Counter()}\n",
    "    loc = 0\n",
    "    with open(f) as f:\n",
    "        current_sched = -1\n",
    "        for l in f:\n",
    "            l = l.strip().split(\"//\")[0]\n",
    "\n",
    "            next_sched = is_schedule(l)\n",
    "            if(next_sched != None):\n",
    "                current_sched = next_sched\n",
    "            else:\n",
    "                i = count_annotations(l)\n",
    "                anns += i\n",
    "                sched_dict[current_sched] += count_schedule_directives(l)\n",
    "                # Do not count lines which are part of the schedule or the annotations\n",
    "                if(current_sched == -1 and i == 0):\n",
    "                    loc += 1\n",
    "    return anns, loc, sched_dict"
   ]
  },
  {
   "cell_type": "code",
   "execution_count": 47,
   "id": "ae36749a",
   "metadata": {},
   "outputs": [],
   "source": [
    "def get_directives(sched: Counter[str])-> str:\n",
    "    result = []\n",
    "    if 'compute_at' in sched or 'compute_root' in sched:\n",
    "        result.append('c')\n",
    "    if 'fuse' in sched:\n",
    "        result.append('f')\n",
    "    if 'parallel' in sched:\n",
    "        result.append('p')\n",
    "    if 'reorder' in sched:\n",
    "        result.append('r')\n",
    "    if 'split' in sched or 'tile' in sched:\n",
    "        result.append('s')\n",
    "    if 'store_at' in sched or 'store_root' in sched:\n",
    "        result.append('st')\n",
    "    if 'unroll' in sched:\n",
    "        result.append('u')\n",
    "    \n",
    "    return '\\{' + ','.join(result) + '\\}'"
   ]
  },
  {
   "cell_type": "code",
   "execution_count": 48,
   "id": "13f2e279",
   "metadata": {},
   "outputs": [],
   "source": [
    "directivesUsed : Dict[str, Dict[str,str]] = {}\n",
    "scheduleLoC: Dict[str, Dict[str,int]] = {}\n",
    "halideAnn: Dict[str, int] = {}\n",
    "halideLoC: Dict[str, int]  = {}\n",
    "\n",
    "for n in versions:\n",
    "    fn = \"src/\" + n + \".cpp\" \n",
    "    anns, loc, sched_dict = count_cpp_file(fn)\n",
    "    halideAnn[n] = anns\n",
    "    halideLoC[n] = loc\n",
    "    \n",
    "    if sum(sched_dict[-1].values()) != 0:\n",
    "        print(f\"Found non-zero count for outside schedule for {n}: {sched_dict[-1]}\")\n",
    "    directivesUsed[n] = { }\n",
    "    scheduleLoC[n] = {}\n",
    "    for v in versions[n]:\n",
    "        directivesUsed[n][v] = get_directives(sched_dict[int(v)])\n",
    "        scheduleLoC[n][v] = sum(sched_dict[int(v)].values())"
   ]
  },
  {
   "cell_type": "code",
   "execution_count": 49,
   "id": "97f58487",
   "metadata": {},
   "outputs": [
    {
     "name": "stdout",
     "output_type": "stream",
     "text": [
      "inconsistent results for 'hist_3.pvl'\n",
      "avr_total, passes, fails,  timeouts, passtime, failtime: (124.84575419425964, 4, 1, 0, 91.63698780536652, 257.68081974983215)\n",
      "inconsistent results for 'gemm_2.pvl'\n",
      "avr_total, passes, fails,  timeouts, passtime, failtime: (187.38077840805053, 3, 2, 0, 240.46967116991678, 215.49487853050232)\n",
      "\\begin{tabular}{l l \\vbar \\vbar r r \\vbar r \\vbar r \\vbar r r r r \\vbar \\vbar r}\n",
      "\\hline Name & & \\multicolumn{2}{l\\vbar}{\\halide} & \\multicolumn{1}{l\\vbar}{Fr-end} & Sched. & \\multicolumn{3}{l}{\\pvl} & & LoA \\\\\n",
      "& & LoC & LoA & T. (s) & LoC & LoC & LoA & Loops & T. (s) & incr. \\\\ \\hline \\hline\n",
      "blur & V0 & 36 & 2 & 13 & 0 & 121 &59 &2 & 13 & 29.5x\\\\ \\hline\n",
      " & V1-\\{f,p\\} & \\ditto & \\ditto & \\ditto &2 &116 &54 &1 & 21 & 27.0x\\\\ \\hline\n",
      " & V2-\\{c,p,r,s\\} & \\ditto & \\ditto & \\ditto &6 &145 &79 &6 & 51 & 39.5x\\\\ \\hline\n",
      " & V3-\\{c,p,s,st,u\\} & \\ditto & \\ditto & \\ditto &8 &145 &75 &5 & 34 & 37.5x\\\\ \\hline\n",
      "\\hline\n",
      "hist & V0 & 71 & 10 & 22 & 0 & 199 &112 &11 & 22 & 11.2x\\\\ \\hline\n",
      " & V1-\\{c,p,r,u\\} & \\ditto & \\ditto & \\ditto &4 &207 &112 &11 & 61 & 11.2x\\\\ \\hline\n",
      " & V2-\\{c,p,r,u\\} & \\ditto & \\ditto & \\ditto &6 &205 &117 &13 & 48 & 11.7x\\\\ \\hline\n",
      " & V3-\\{c,p,r,s,u\\} & \\ditto & \\ditto & \\ditto &39 &192 &119 &13 & 125$^{\\dag}$ & 11.9x\\\\ \\hline\n",
      "\\hline\n",
      "conv\\_ & V0 & 44 & 7 & 34 & 0 & 181 &158 &7 & 34 & 22.6x\\\\ \\hline\n",
      "layer & V1-\\{c,f,p,u\\} & \\ditto & \\ditto & \\ditto &4 &186 &155 &8 & 48 & 22.1x\\\\ \\hline\n",
      " & V2-\\{p,r,s,u\\} & \\ditto & \\ditto & \\ditto &6 &201 &185 &10 & 182 & 26.4x\\\\ \\hline\n",
      " & V3-\\{c,p,r,s,u\\} & \\ditto & \\ditto & \\ditto &15 &185 &158 &7 & 148 & 22.6x\\\\ \\hline\n",
      "\\hline\n",
      "gemm & V0 & 67 & 12 & 18 & 0 & 149 &106 &3 & 18 & 8.8x\\\\ \\hline\n",
      " & V1-\\{c,p,r,s\\} & \\ditto & \\ditto & \\ditto &8 &186 &155 &10 & 148 & 12.9x\\\\ \\hline\n",
      " & V2-\\{c,p,r,s\\} & \\ditto & \\ditto & \\ditto &16 &236 &216 &19 & 187$^{\\dag}$ & 18.0x\\\\ \\hline\n",
      " & V3-\\{c,f,p,r,s,u\\} & \\ditto & \\ditto & \\ditto &24 &322 &296 &31 & F & 24.7x\\\\ \\hline\n",
      "\\hline\n",
      "auto\\_ & V0 & 112 & 15 & 72 & 0 & 295 &152 &19 & 72 & 10.1x\\\\ \\hline\n",
      "viz & V1-\\{c\\} & \\ditto & \\ditto & \\ditto &9 &281 &204 &23 & 107 & 13.6x\\\\ \\hline\n",
      " & V2-\\{c,p\\} & \\ditto & \\ditto & \\ditto &12 &303 &229 &27 & 183 & 15.3x\\\\ \\hline\n",
      " & V3-\\{c,p,r,s\\} & \\ditto & \\ditto & \\ditto &27 &304 &223 &25 & 238 & 14.9x\\\\ \\hline\n",
      "\\hline\n",
      "\\end{tabular}\n"
     ]
    }
   ],
   "source": [
    "print(experiments.make_table(directivesUsed, halideLoC, halideAnn, scheduleLoC))"
   ]
  },
  {
   "cell_type": "code",
   "execution_count": 51,
   "id": "6d3be9f7",
   "metadata": {},
   "outputs": [
    {
     "name": "stdout",
     "output_type": "stream",
     "text": [
      "Found non-zero count for outside schedule for bilateral_grid: Counter({'bound': 4})\n"
     ]
    }
   ],
   "source": [
    "directivesUsedMem : Dict[str, Dict[str,str]] = {}\n",
    "scheduleLoCMem: Dict[str, Dict[str,int]] = {}\n",
    "halideLoCMem: Dict[str, int]  = {}\n",
    "\n",
    "for n in versionsMem:\n",
    "    fn = \"src/\" + n + \".cpp\" \n",
    "    anns, loc, sched_dict = count_cpp_file(fn)\n",
    "    halideLoCMem[n] = loc\n",
    "    \n",
    "    if sum(sched_dict[-1].values()) != 0:\n",
    "        print(f\"Found non-zero count for outside schedule for {n}: {sched_dict[-1]}\")\n",
    "    directivesUsedMem[n] = { }\n",
    "    scheduleLoCMem[n] = {}\n",
    "    for v in versionsMem[n]:\n",
    "        version = int(v) if v != \"\" else 0\n",
    "        directivesUsedMem[n][v] = get_directives(sched_dict[version])\n",
    "        scheduleLoCMem[n][v] = sum(sched_dict[version].values())"
   ]
  },
  {
   "cell_type": "code",
   "execution_count": 52,
   "id": "5c84fd89",
   "metadata": {},
   "outputs": [
    {
     "name": "stdout",
     "output_type": "stream",
     "text": [
      "inconsistent results for 'conv_layer_2_mem.pvl'\n",
      "avr_total, passes, fails,  timeouts, passtime, failtime: (107.68195314407349, 2, 3, 0, 149.9859812259674, 238.43780326843262)\n",
      "inconsistent results for 'gemm_2_mem.pvl'\n",
      "avr_total, passes, fails,  timeouts, passtime, failtime: (122.6997950553894, 4, 1, 0, 121.41106450557709, 127.85471725463867)\n",
      "inconsistent results for 'camera_pipe_mem.pvl'\n",
      "avr_total, passes, fails,  timeouts, passtime, failtime: (272.72356338500975, 4, 1, 0, 248.57105696201324, 369.33358907699585)\n"
     ]
    }
   ],
   "source": [
    "header0 = r\"\\begin{tabular}{l l \\vbar \\vbar r \\vbar r \\vbar r r r r}\"\n",
    "header1 = r\"\\hline \\textbf{Name} & & \\multicolumn{1}{l\\vbar}{\\textbf{\\halide}} & \\textbf{\\textbf{Sched}}. & \\multicolumn{3}{l}{\\textbf{\\pvl}} & \\\\\"\n",
    "header2 = r\"& & \\textbf{LoC} & \\textbf{Dir.} & \\textbf{LoC} & \\textbf{Ann.} & \\textbf{Loops} & \\textbf{T. (s).} \\\\ \\hline \\hline\"\n",
    "\n",
    "rows: List[str] = [header0, header1, header2]\n",
    "for name in versionsMem:\n",
    "    for v in versionsMem[name]:\n",
    "        filename = experiments.version_to_file_name(name, v, True)\n",
    "        solo_bench = len(versionsMem[name]) == 1\n",
    "        vname = \"\" if solo_bench == 1 else \"V\" + v\n",
    "        row = \"\"\n",
    "        if v == versionsMem[name][0]:\n",
    "            shortname = name\n",
    "            if name == 'conv_layer':\n",
    "                shortname = 'conv\\_'\n",
    "            if name == 'auto_viz':\n",
    "                shortname = 'auto\\_'\n",
    "            LoC = \"?\" if solo_bench else \"0\"\n",
    "            if solo_bench:\n",
    "                row += \"\\multicolumn{2}{l \\\\vbar}{\" + shortname.replace('_', '\\_') + \"} &\"\n",
    "            else:\n",
    "                row += f\"{shortname} & {vname} &\"\n",
    "            row += f\" {halideLoCMem[name]} & {scheduleLoCMem[name][v]} & \"\n",
    "        else:\n",
    "            if name == 'conv_layer' and v == versionsMem[name][1]:\n",
    "                row += \"layer\"\n",
    "            if name == 'auto_viz' and v == versionsMem[name][1]:\n",
    "                row += \"viz\"\n",
    "            row += f\" & {vname}-{directivesUsedMem[name][v]} & \\ditto &\"\n",
    "            row += f\"{scheduleLoCMem[name][v]} &\"\n",
    "\n",
    "        full_name = name + '-' + v\n",
    "\n",
    "        row += f\"{experiments.line_infos[filename].lines_of_code} &\"\n",
    "        row += f\"{experiments.line_infos[filename].nr_annotations} &\" \n",
    "        row += f\"{experiments.line_infos[filename].loops} & \"\n",
    "\n",
    "        res = experiments.verification_times[filename]\n",
    "        row += average_to_str(res, filename)\n",
    "        row += r\"\\\\ \\hline\"\n",
    "        rows.append(row)\n",
    "    rows.append (\"\\hline\")\n",
    "rows.append(r\"\\end{tabular}\")\n",
    "mem_table = \"\\n\".join(rows)"
   ]
  },
  {
   "cell_type": "code",
   "execution_count": 53,
   "id": "affeb1f8",
   "metadata": {},
   "outputs": [
    {
     "name": "stdout",
     "output_type": "stream",
     "text": [
      "\\begin{tabular}{l l \\vbar \\vbar r \\vbar r \\vbar r r r r}\n",
      "\\hline \\textbf{Name} & & \\multicolumn{1}{l\\vbar}{\\textbf{\\halide}} & \\textbf{\\textbf{Sched}}. & \\multicolumn{3}{l}{\\textbf{\\pvl}} & \\\\\n",
      "& & \\textbf{LoC} & \\textbf{Dir.} & \\textbf{LoC} & \\textbf{Ann.} & \\textbf{Loops} & \\textbf{T. (s).} \\\\ \\hline \\hline\n",
      "blur & V0 & 36 & 0 & 121 &56 &2 & 10\\\\ \\hline\n",
      " & V1-\\{f,p\\} & \\ditto &2 &116 &52 &1 & 19\\\\ \\hline\n",
      " & V2-\\{c,p,r,s\\} & \\ditto &6 &145 &70 &6 & 38\\\\ \\hline\n",
      " & V3-\\{c,p,s,st,u\\} & \\ditto &8 &145 &68 &5 & 24\\\\ \\hline\n",
      "\\hline\n",
      "hist & V0 & 71 & 2 & 199 &92 &11 & 18\\\\ \\hline\n",
      " & V1-\\{c,p,r,u\\} & \\ditto &4 &207 &93 &11 & 32\\\\ \\hline\n",
      " & V2-\\{c,p,r,u\\} & \\ditto &6 &205 &99 &13 & 42\\\\ \\hline\n",
      " & V3-\\{c,p,r,s,u\\} & \\ditto &39 &192 &95 &13 & 71\\\\ \\hline\n",
      "\\hline\n",
      "conv\\_ & V0 & 44 & 0 & 181 &129 &7 & 29\\\\ \\hline\n",
      "layer & V1-\\{c,f,p,u\\} & \\ditto &4 &186 &126 &8 & 42\\\\ \\hline\n",
      " & V2-\\{p,r,s,u\\} & \\ditto &6 &201 &147 &10 & 108$^{\\dag}$\\\\ \\hline\n",
      " & V3-\\{c,p,r,s,u\\} & \\ditto &15 &185 &129 &7 & 115\\\\ \\hline\n",
      "\\hline\n",
      "gemm & V0 & 67 & 0 & 149 &91 &3 & 16\\\\ \\hline\n",
      " & V1-\\{c,p,r,s\\} & \\ditto &8 &186 &122 &10 & 103\\\\ \\hline\n",
      " & V2-\\{c,p,r,s\\} & \\ditto &16 &236 &159 &19 & 123$^{\\dag}$\\\\ \\hline\n",
      " & V3-\\{c,f,p,r,s,u\\} & \\ditto &24 &322 &207 &31 & F\\\\ \\hline\n",
      "\\hline\n",
      "auto\\_ & V0 & 112 & 0 & 295 &112 &19 & 27\\\\ \\hline\n",
      "viz & V1-\\{c\\} & \\ditto &9 &281 &133 &23 & 80\\\\ \\hline\n",
      " & V2-\\{c,p\\} & \\ditto &12 &303 &150 &27 & 137\\\\ \\hline\n",
      " & V3-\\{c,p,r,s\\} & \\ditto &27 &304 &146 &25 & 177\\\\ \\hline\n",
      "\\hline\n",
      "\\multicolumn{2}{l \\vbar}{camera\\_pipe} & 345 & 27 & 326 &181 &25 & 273$^{\\dag}$\\\\ \\hline\n",
      "\\hline\n",
      "\\multicolumn{2}{l \\vbar}{bilateral\\_grid} & 88 & 18 & 365 &176 &39 & 157\\\\ \\hline\n",
      "\\hline\n",
      "\\multicolumn{2}{l \\vbar}{depthwise\\_separable\\_conv} & 94 & 13 & 383 &291 &44 & 173\\\\ \\hline\n",
      "\\hline\n",
      "\\end{tabular}\n"
     ]
    }
   ],
   "source": [
    "print(mem_table)"
   ]
  },
  {
   "cell_type": "code",
   "execution_count": 58,
   "id": "8d1636ed",
   "metadata": {},
   "outputs": [],
   "source": [
    "with open(\"result_table_mem.tex\", \"w\") as f:\n",
    "    f.write(mem_table)"
   ]
  },
  {
   "cell_type": "code",
   "execution_count": 61,
   "id": "521ad2ff",
   "metadata": {},
   "outputs": [
    {
     "name": "stdout",
     "output_type": "stream",
     "text": [
      "inconsistent results for 'hist_3.pvl'\n",
      "avr_total, passes, fails,  timeouts, passtime, failtime: (124.84575419425964, 4, 1, 0, 91.63698780536652, 257.68081974983215)\n",
      "inconsistent results for 'gemm_2.pvl'\n",
      "avr_total, passes, fails,  timeouts, passtime, failtime: (187.38077840805053, 3, 2, 0, 240.46967116991678, 215.49487853050232)\n",
      "This is pdfTeX, Version 3.141592653-2.6-1.40.25 (TeX Live 2023) (preloaded format=pdflatex)\n",
      " restricted \\write18 enabled.\n",
      "entering extended mode\n",
      "(./table.tex\n",
      "LaTeX2e <2022-11-01> patch level 1\n",
      "L3 programming layer <2023-03-30>\n",
      "(/usr/local/texlive/2023/texmf-dist/tex/latex/base/article.cls\n",
      "Document Class: article 2022/07/02 v1.4n Standard LaTeX document class\n",
      "(/usr/local/texlive/2023/texmf-dist/tex/latex/base/size10.clo))\n",
      "(/usr/local/texlive/2023/texmf-dist/tex/latex/base/fontenc.sty)\n",
      "(/usr/local/texlive/2023/texmf-dist/tex/latex/tools/xspace.sty)\n",
      "(/usr/local/texlive/2023/texmf-dist/tex/latex/preprint/fullpage.sty)\n",
      "(/usr/local/texlive/2023/texmf-dist/tex/latex/l3backend/l3backend-pdftex.def)\n",
      "(./table.aux) (/usr/local/texlive/2023/texmf-dist/tex/latex/base/t1cmtt.fd)\n",
      "! Missing $ inserted.\n",
      "<inserted text> \n",
      "                $\n",
      "l.15 ...ore_at} and \\texttt{\\underline{u}nroll}. }\n",
      "                                                  \n",
      "? ^C\n",
      "! Interruption.\n",
      "<to be read again> \n",
      "                   _\n",
      "l.15 ...ore_at} and \\texttt{\\underline{u}nroll}. }\n",
      "                                                  \n",
      "? "
     ]
    },
    {
     "data": {
      "text/html": [
       "<iframe src=table.pdf width=950 height=500></iframe>"
      ],
      "text/plain": [
       "<preprocess.PDF at 0x7f3bc17cfc50>"
      ]
     },
     "execution_count": 61,
     "metadata": {},
     "output_type": "execute_result"
    }
   ],
   "source": [
    "experiments.save_table(directivesUsed, halideLoC, halideAnn, scheduleLoC)\n",
    "!pdflatex table.tex\n",
    "PDF('table.pdf',size=(950,500))"
   ]
  },
  {
   "cell_type": "markdown",
   "id": "d953ef88",
   "metadata": {},
   "source": [
    "# End"
   ]
  }
 ],
 "metadata": {
  "kernelspec": {
   "display_name": "Python 3 (ipykernel)",
   "language": "python",
   "name": "python3"
  },
  "language_info": {
   "codemirror_mode": {
    "name": "ipython",
    "version": 3
   },
   "file_extension": ".py",
   "mimetype": "text/x-python",
   "name": "python",
   "nbconvert_exporter": "python",
   "pygments_lexer": "ipython3",
   "version": "3.11.2"
  }
 },
 "nbformat": 4,
 "nbformat_minor": 5
}
