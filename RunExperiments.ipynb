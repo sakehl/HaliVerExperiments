{
 "cells": [
  {
   "cell_type": "markdown",
   "id": "english-driving",
   "metadata": {},
   "source": [
    "# Experiments for HaliVer"
   ]
  },
  {
   "cell_type": "markdown",
   "id": "1a569ecf",
   "metadata": {},
   "source": [
    "This code runs the experiments of the paper and produces Table 1 and 2.\n",
    "\n",
    "All the code running the experiments are described in `preprocess.py` file via the `Experiments` class.\n",
    "\n",
    "These default settings should run the experiments in approximately 2 hours. The paper actually does every experiment 5 times, which last 5 time as long.\n",
    "\n",
    "The files we verify are produced with CMake. For instance, the Halide code for blur is found in `src/blur.cpp` and produces the file `build/blur_0.c` (and other files). This file contains the C code, together with the annotations HaliVer produced.\n",
    "\n",
    "All experiments give back a tuple with `(Time, result)` where `Time` is the verification time and `result` should be `Pass` (verification passed) `Fail` (verification failed), `Error` (an unexpected error occurred) or `TimeOut` (the verification passed the set time out value)\n",
    "\n",
    "The actual logs of the VerCors output can be found under `logs\\` I.e. for `blur` version `0` this is `logs\\blur_0.c.txt`. If a verification failed (`Fail`) then the logs will say which lines have failed."
   ]
  },
  {
   "cell_type": "markdown",
   "id": "bf6db305",
   "metadata": {},
   "source": [
    "### Explanation of commands\n",
    "#### Front End\n",
    "The code `experiments.front_end('blur', timeout=600)` runs the command:\n",
    "```bash\n",
    "/vercors/vct \n",
    "  --dev-assert-timeout 0 \n",
    "  --silicon-quiet \n",
    "  --no-infer-heap-context-into-frame \n",
    "  --dev-total-timeout 600 \n",
    "  --backend-file-base build/blur_front.pvl \n",
    "  build/blur_front.pvl\n",
    "```\n",
    "- `/vercors/vct` vct is the VerCors verifier\n",
    "- `--dev-assert-timeout 0 ` means VerCors will never not give up verification of a single assertion after a timeout (default is 30 seconds)\n",
    "- `--silicon-quiet` so we do not get information from silicon (underlying tooling VerCors uses)\n",
    "- `--no-infer-heap-context-into-frame` Disables smart inference of contextual heap into frame statements using `forperm`, can cause crashes sometimes, see [here](https://github.com/utwente-fmt/vercors/issues/1040)\n",
    "- `--dev-total-timeout 600 ` means after 600 seconds of verification, VerCors will time out.\n",
    "- `--backend-file-base build/blur_front.pvl` will save the intermediate [Viper](https://www.pm.inf.ethz.ch/research/viper.html) file (does not influence Verification) as `blur_front.pvl-0.vpr`\n",
    "- `build/blur_front.pvl`: the actual file verified.\n",
    "\n",
    "#### Back End\n",
    "The code `experiments.back_end('blur', version='0', timeout=600)` runs the command:\n",
    "```bash\n",
    "/vercors/vct \n",
    "  --dev-assert-timeout 0 \n",
    "  --backend-option --prover=Z3-API\n",
    "  --silicon-quiet \n",
    "  --no-infer-heap-context-into-frame \n",
    "  --dev-total-timeout 600 \n",
    "  --backend-file-base build/blur_0.c\n",
    "  build/blur_0.c\n",
    "```\n",
    "\n",
    "- `--backend-option --prover=Z3-API` tells the underlying Viper tool to use the Z3 API, instead of the library. Can speed up verification."
   ]
  },
  {
   "cell_type": "code",
   "execution_count": null,
   "id": "classified-treasure",
   "metadata": {},
   "outputs": [],
   "source": [
    "from preprocess import *\n",
    "from typing import List, Optional, Dict, Tuple\n",
    "import datetime"
   ]
  },
  {
   "cell_type": "code",
   "execution_count": null,
   "id": "unsigned-salmon",
   "metadata": {},
   "outputs": [],
   "source": [
    "n = 1 # repetitions Normally set to 5, but 1 should be sufficient here\n",
    "t = 10*60 # timeout\n",
    "load_results = False # If this is true, we do not run experiments, but only load them from file\n",
    "rerun_inconsistent = True # If this is true, we repeat the inconsistent results an additional 4 times\n",
    "load_prefix = \"results/2023-10-09-18-59\"\n",
    "save_prefix = \"results/\" + datetime.datetime.now().strftime('%Y-%m-%d-%H-%M')\n",
    "vercors_loc = '/vercors/vct'\n",
    "silicon_loc = '/vercors/silicon'\n"
   ]
  },
  {
   "cell_type": "code",
   "execution_count": null,
   "id": "adaptive-surface",
   "metadata": {},
   "outputs": [],
   "source": [
    "versions: Dict[str, List[str]] = {\n",
    "    'blur' : ['0','1','2','3'],\n",
    "    'hist' : ['0','1','2','3'],\n",
    "    'conv_layer' : ['0','1','2','3'],\n",
    "    'gemm' : ['0','1','2','3'],\n",
    "    'auto_viz' : ['0','1','2','3'],\n",
    "}\n",
    "\n",
    "versionsMem: Dict[str, List[str]] = {\n",
    "    'blur' : ['0','1','2','3'],\n",
    "    'hist' : ['0','1','2','3'],\n",
    "    'conv_layer' : ['0','1','2','3'],\n",
    "    'gemm' : ['0','1','2','3'],\n",
    "    'auto_viz' : ['0','1','2','3'],\n",
    "    'camera_pipe' : [''],\n",
    "    'bilateral_grid' : [''],\n",
    "    'depthwise_separable_conv' : [''],\n",
    "}\n",
    "experiments = Experiments(versions, versionsMem, vercors_loc=vercors_loc, silicon_loc=silicon_loc, repetitions = n, timeout = t)"
   ]
  },
  {
   "cell_type": "code",
   "execution_count": null,
   "id": "11967a74",
   "metadata": {},
   "outputs": [],
   "source": [
    "!cmake -B build -S ."
   ]
  },
  {
   "cell_type": "code",
   "execution_count": null,
   "id": "e9657d30",
   "metadata": {},
   "outputs": [],
   "source": [
    "!cmake --build build"
   ]
  },
  {
   "cell_type": "code",
   "execution_count": null,
   "id": "b1e35e9a",
   "metadata": {},
   "outputs": [],
   "source": [
    "experiments.count_files()"
   ]
  },
  {
   "cell_type": "markdown",
   "id": "antique-quarterly",
   "metadata": {},
   "source": [
    "## Blur"
   ]
  },
  {
   "cell_type": "code",
   "execution_count": null,
   "id": "fatal-screw",
   "metadata": {},
   "outputs": [],
   "source": [
    "name = 'blur'"
   ]
  },
  {
   "cell_type": "code",
   "execution_count": null,
   "id": "extra-kidney",
   "metadata": {},
   "outputs": [],
   "source": [
    "if(not load_results):\n",
    "    experiments.front_end(name)"
   ]
  },
  {
   "cell_type": "code",
   "execution_count": null,
   "id": "reported-formula",
   "metadata": {
    "scrolled": true
   },
   "outputs": [],
   "source": [
    "if(not load_results):\n",
    "    experiments.back_end(name)"
   ]
  },
  {
   "cell_type": "code",
   "execution_count": null,
   "id": "1513005b",
   "metadata": {},
   "outputs": [],
   "source": [
    "if(not load_results):\n",
    "    experiments.back_end(name, mem=True)"
   ]
  },
  {
   "cell_type": "code",
   "execution_count": null,
   "id": "d924ba6f",
   "metadata": {},
   "outputs": [],
   "source": [
    "if(not load_results):\n",
    "    experiments.save_results(save_prefix)"
   ]
  },
  {
   "cell_type": "markdown",
   "id": "literary-following",
   "metadata": {},
   "source": [
    "## Hist"
   ]
  },
  {
   "cell_type": "code",
   "execution_count": null,
   "id": "premier-novelty",
   "metadata": {},
   "outputs": [],
   "source": [
    "name = 'hist'"
   ]
  },
  {
   "cell_type": "code",
   "execution_count": null,
   "id": "d084003e",
   "metadata": {},
   "outputs": [],
   "source": [
    "if(not load_results):\n",
    "    experiments.front_end(name)"
   ]
  },
  {
   "cell_type": "code",
   "execution_count": null,
   "id": "97f127ae",
   "metadata": {
    "scrolled": true
   },
   "outputs": [],
   "source": [
    "if(not load_results):\n",
    "    experiments.back_end(name)"
   ]
  },
  {
   "cell_type": "code",
   "execution_count": null,
   "id": "1881e554",
   "metadata": {},
   "outputs": [],
   "source": [
    "if(not load_results):\n",
    "    experiments.back_end(name, mem=True)"
   ]
  },
  {
   "cell_type": "code",
   "execution_count": null,
   "id": "578009a5",
   "metadata": {},
   "outputs": [],
   "source": [
    "if(not load_results):\n",
    "    experiments.save_results(save_prefix)"
   ]
  },
  {
   "cell_type": "markdown",
   "id": "finnish-opening",
   "metadata": {},
   "source": [
    "## Conv_layer"
   ]
  },
  {
   "cell_type": "code",
   "execution_count": null,
   "id": "personalized-principal",
   "metadata": {},
   "outputs": [],
   "source": [
    "name = 'conv_layer'"
   ]
  },
  {
   "cell_type": "code",
   "execution_count": null,
   "id": "79f7eec3",
   "metadata": {},
   "outputs": [],
   "source": [
    "if(not load_results):\n",
    "    experiments.front_end(name)"
   ]
  },
  {
   "cell_type": "code",
   "execution_count": null,
   "id": "c761cc37",
   "metadata": {
    "scrolled": true
   },
   "outputs": [],
   "source": [
    "if(not load_results):\n",
    "    experiments.back_end(name)"
   ]
  },
  {
   "cell_type": "code",
   "execution_count": null,
   "id": "10909124",
   "metadata": {},
   "outputs": [],
   "source": [
    "if(not load_results):\n",
    "    experiments.back_end(name, mem=True)"
   ]
  },
  {
   "cell_type": "code",
   "execution_count": null,
   "id": "c67e7661",
   "metadata": {},
   "outputs": [],
   "source": [
    "if(not load_results):\n",
    "    experiments.save_results(save_prefix)"
   ]
  },
  {
   "cell_type": "markdown",
   "id": "executed-blowing",
   "metadata": {
    "slideshow": {
     "slide_type": ""
    }
   },
   "source": [
    "## Gemm"
   ]
  },
  {
   "cell_type": "code",
   "execution_count": null,
   "id": "suited-argument",
   "metadata": {},
   "outputs": [],
   "source": [
    "name = 'gemm'"
   ]
  },
  {
   "cell_type": "code",
   "execution_count": null,
   "id": "24e9e255",
   "metadata": {},
   "outputs": [],
   "source": [
    "if(not load_results):\n",
    "    experiments.front_end(name)"
   ]
  },
  {
   "cell_type": "code",
   "execution_count": null,
   "id": "ed9b1104",
   "metadata": {
    "scrolled": true
   },
   "outputs": [],
   "source": [
    "if(not load_results):\n",
    "    experiments.back_end(name)"
   ]
  },
  {
   "cell_type": "code",
   "execution_count": null,
   "id": "db5cd986",
   "metadata": {},
   "outputs": [],
   "source": [
    "if(not load_results):\n",
    "    experiments.back_end(name, mem=True)"
   ]
  },
  {
   "cell_type": "code",
   "execution_count": null,
   "id": "b9834f1b",
   "metadata": {},
   "outputs": [],
   "source": [
    "if(not load_results):\n",
    "    experiments.save_results(save_prefix)"
   ]
  },
  {
   "cell_type": "markdown",
   "id": "485b6b16",
   "metadata": {
    "slideshow": {
     "slide_type": ""
    }
   },
   "source": [
    "## Auto_viz"
   ]
  },
  {
   "cell_type": "code",
   "execution_count": null,
   "id": "26a57a74",
   "metadata": {},
   "outputs": [],
   "source": [
    "name = 'auto_viz'"
   ]
  },
  {
   "cell_type": "code",
   "execution_count": null,
   "id": "cc357350",
   "metadata": {},
   "outputs": [],
   "source": [
    "if(not load_results):\n",
    "    experiments.front_end(name)"
   ]
  },
  {
   "cell_type": "code",
   "execution_count": null,
   "id": "47c3f281",
   "metadata": {
    "scrolled": true
   },
   "outputs": [],
   "source": [
    "if(not load_results):\n",
    "    experiments.back_end(name)"
   ]
  },
  {
   "cell_type": "code",
   "execution_count": null,
   "id": "353c7ea3",
   "metadata": {},
   "outputs": [],
   "source": [
    "if(not load_results):\n",
    "    experiments.back_end(name, mem=True)"
   ]
  },
  {
   "cell_type": "code",
   "execution_count": null,
   "id": "dcdd200f",
   "metadata": {},
   "outputs": [],
   "source": [
    "if(not load_results):\n",
    "    experiments.save_results(save_prefix)"
   ]
  },
  {
   "cell_type": "markdown",
   "id": "43c4dede",
   "metadata": {
    "slideshow": {
     "slide_type": ""
    }
   },
   "source": [
    "## camera_pipeline"
   ]
  },
  {
   "cell_type": "code",
   "execution_count": null,
   "id": "08c0dd7d",
   "metadata": {},
   "outputs": [],
   "source": [
    "name = 'camera_pipe'"
   ]
  },
  {
   "cell_type": "code",
   "execution_count": null,
   "id": "5ade64e7",
   "metadata": {
    "scrolled": true
   },
   "outputs": [],
   "source": [
    "if(not load_results):\n",
    "    experiments.back_end(name, mem=True)"
   ]
  },
  {
   "cell_type": "code",
   "execution_count": null,
   "id": "24d4c336",
   "metadata": {},
   "outputs": [],
   "source": [
    "if(not load_results):\n",
    "    experiments.save_results(save_prefix)"
   ]
  },
  {
   "cell_type": "markdown",
   "id": "b238c45e",
   "metadata": {
    "slideshow": {
     "slide_type": ""
    }
   },
   "source": [
    "## bilateral_grid"
   ]
  },
  {
   "cell_type": "code",
   "execution_count": null,
   "id": "49335509",
   "metadata": {},
   "outputs": [],
   "source": [
    "name = 'bilateral_grid'"
   ]
  },
  {
   "cell_type": "code",
   "execution_count": null,
   "id": "4c40c438",
   "metadata": {
    "scrolled": true
   },
   "outputs": [],
   "source": [
    "if(not load_results):\n",
    "    experiments.back_end(name, mem=True)"
   ]
  },
  {
   "cell_type": "code",
   "execution_count": null,
   "id": "7a13799c",
   "metadata": {},
   "outputs": [],
   "source": [
    "if(not load_results):\n",
    "    experiments.save_results(save_prefix)"
   ]
  },
  {
   "cell_type": "markdown",
   "id": "31839723",
   "metadata": {
    "slideshow": {
     "slide_type": ""
    }
   },
   "source": [
    "## depthwise_separable_conv"
   ]
  },
  {
   "cell_type": "code",
   "execution_count": null,
   "id": "dc072130",
   "metadata": {},
   "outputs": [],
   "source": [
    "name = 'depthwise_separable_conv'"
   ]
  },
  {
   "cell_type": "code",
   "execution_count": null,
   "id": "e637ee16",
   "metadata": {
    "scrolled": true
   },
   "outputs": [],
   "source": [
    "if(not load_results):\n",
    "    experiments.back_end(name, mem=True)"
   ]
  },
  {
   "cell_type": "code",
   "execution_count": null,
   "id": "c8a23706",
   "metadata": {},
   "outputs": [],
   "source": [
    "if(not load_results):\n",
    "    experiments.save_results(save_prefix)"
   ]
  },
  {
   "cell_type": "markdown",
   "id": "2ec5c9f7",
   "metadata": {},
   "source": [
    "# Inconsistent Results"
   ]
  },
  {
   "cell_type": "code",
   "execution_count": null,
   "id": "01db9280",
   "metadata": {},
   "outputs": [],
   "source": [
    "# Some results are inconsistent, so it would be better to rerun these results\n",
    "inconsistent_results = {'gemm_2_mem.c', 'blur_3.c', 'auto_viz_0.c', 'auto_viz_2.c', 'auto_viz_3.c'}\n",
    "#rerun_inconsistent = True\n",
    "if(not load_results and rerun_inconsistent):\n",
    "    for n in inconsistent_results:\n",
    "        experiments.run_verification(n, repetitions=4, useAPI=True)"
   ]
  },
  {
   "cell_type": "markdown",
   "id": "inclusive-distinction",
   "metadata": {},
   "source": [
    "# Result table"
   ]
  },
  {
   "cell_type": "code",
   "execution_count": null,
   "id": "f40158c4",
   "metadata": {},
   "outputs": [],
   "source": [
    "# Load results, otherwise it uses the results from run experiments\n",
    "if(load_results):\n",
    "    experiments.load_results(load_prefix)"
   ]
  },
  {
   "cell_type": "code",
   "execution_count": null,
   "id": "2b27a9f0",
   "metadata": {},
   "outputs": [],
   "source": [
    "# Make Table 1 of the paper\n",
    "mem_table = make_mem_table(experiments)\n",
    "# This the actual latex table code\n",
    "print(mem_table)\n",
    "# We can write it to file\n",
    "with open(\"result_table.tex\", \"w\") as f:\n",
    "    f.write(mem_table)"
   ]
  },
  {
   "cell_type": "code",
   "execution_count": null,
   "id": "7608c222",
   "metadata": {},
   "outputs": [],
   "source": [
    "# Make Table 2 of the paper\n",
    "normal_table = make_normal_table(experiments)\n",
    "# This the actual latex table code\n",
    "print(normal_table)\n",
    "# We can write it to file\n",
    "with open(\"result_table_mem.tex\", \"w\") as f:\n",
    "    f.write(normal_table)"
   ]
  },
  {
   "cell_type": "code",
   "execution_count": null,
   "id": "521ad2ff",
   "metadata": {},
   "outputs": [],
   "source": [
    "!pdflatex -quiet table.tex"
   ]
  },
  {
   "cell_type": "code",
   "execution_count": null,
   "id": "2b7d3b70",
   "metadata": {},
   "outputs": [],
   "source": [
    "PDF('table.pdf',size=(950,500))"
   ]
  },
  {
   "cell_type": "markdown",
   "id": "d953ef88",
   "metadata": {},
   "source": [
    "# End"
   ]
  }
 ],
 "metadata": {
  "kernelspec": {
   "display_name": "Python 3 (ipykernel)",
   "language": "python",
   "name": "python3"
  },
  "language_info": {
   "codemirror_mode": {
    "name": "ipython",
    "version": 3
   },
   "file_extension": ".py",
   "mimetype": "text/x-python",
   "name": "python",
   "nbconvert_exporter": "python",
   "pygments_lexer": "ipython3",
   "version": "3.11.4"
  }
 },
 "nbformat": 4,
 "nbformat_minor": 5
}
