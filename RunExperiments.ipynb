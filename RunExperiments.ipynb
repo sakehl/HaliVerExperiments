{
 "cells": [
  {
   "cell_type": "markdown",
   "id": "english-driving",
   "metadata": {},
   "source": [
    "# Experiments for HaliVer"
   ]
  },
  {
   "cell_type": "code",
   "execution_count": null,
   "id": "classified-treasure",
   "metadata": {},
   "outputs": [],
   "source": [
    "from preprocess import *\n",
    "from typing import List, Optional, Dict, Tuple\n",
    "import datetime"
   ]
  },
  {
   "cell_type": "code",
   "execution_count": null,
   "id": "unsigned-salmon",
   "metadata": {},
   "outputs": [],
   "source": [
    "n = 1 # repetitions Normally set to 5, but 1 should be sufficient here\n",
    "t = 5*60 # timeout\n",
    "load_results = False # If this is true, we do not run experiments, but only load them from file\n",
    "rerun_inconsistent = False # If this is true, we repeat the inconsistent results an additional 4 times\n",
    "load_prefix = \"results/2023-10-09-18-59\"\n",
    "save_prefix = \"results/\" + datetime.datetime.now().strftime('%Y-%m-%d-%H-%M')\n",
    "vercors_loc = '/vercors/vct'\n",
    "silicon_loc = '/vercors/silicon'\n"
   ]
  },
  {
   "cell_type": "code",
   "execution_count": null,
   "id": "adaptive-surface",
   "metadata": {},
   "outputs": [],
   "source": [
    "versions: Dict[str, List[str]] = {\n",
    "    'blur' : ['0','1','2','3'],\n",
    "    'hist' : ['0','1','2','3'],\n",
    "    'conv_layer' : ['0','1','2','3'],\n",
    "    'gemm' : ['0','1','2','3'],\n",
    "    'auto_viz' : ['0','1','2','3'],\n",
    "}\n",
    "\n",
    "versionsMem: Dict[str, List[str]] = {\n",
    "    'blur' : ['0','1','2','3'],\n",
    "    'hist' : ['0','1','2','3'],\n",
    "    'conv_layer' : ['0','1','2','3'],\n",
    "    'gemm' : ['0','1','2','3'],\n",
    "    'auto_viz' : ['0','1','2','3'],\n",
    "    'camera_pipe' : [''],\n",
    "    'bilateral_grid' : [''],\n",
    "    'depthwise_separable_conv' : [''],\n",
    "}\n",
    "experiments = Experiments(versions, versionsMem, vercors_loc=vercors_loc, silicon_loc=silicon_loc, repetitions = n, timeout = t)"
   ]
  },
  {
   "cell_type": "code",
   "execution_count": null,
   "id": "11967a74",
   "metadata": {},
   "outputs": [],
   "source": [
    "!cmake -B build -S ."
   ]
  },
  {
   "cell_type": "code",
   "execution_count": null,
   "id": "e9657d30",
   "metadata": {},
   "outputs": [],
   "source": [
    "!cmake --build build"
   ]
  },
  {
   "cell_type": "code",
   "execution_count": null,
   "id": "b1e35e9a",
   "metadata": {},
   "outputs": [],
   "source": [
    "experiments.count_files()"
   ]
  },
  {
   "cell_type": "markdown",
   "id": "antique-quarterly",
   "metadata": {},
   "source": [
    "## Blur"
   ]
  },
  {
   "cell_type": "code",
   "execution_count": null,
   "id": "fatal-screw",
   "metadata": {},
   "outputs": [],
   "source": [
    "name = 'blur'"
   ]
  },
  {
   "cell_type": "code",
   "execution_count": null,
   "id": "extra-kidney",
   "metadata": {},
   "outputs": [],
   "source": [
    "if(not load_results):\n",
    "    experiments.front_end(name)"
   ]
  },
  {
   "cell_type": "code",
   "execution_count": null,
   "id": "reported-formula",
   "metadata": {
    "scrolled": true
   },
   "outputs": [],
   "source": [
    "if(not load_results):\n",
    "    experiments.back_end(name)"
   ]
  },
  {
   "cell_type": "code",
   "execution_count": null,
   "id": "1513005b",
   "metadata": {},
   "outputs": [],
   "source": [
    "if(not load_results):\n",
    "    experiments.back_end(name, mem=True)"
   ]
  },
  {
   "cell_type": "code",
   "execution_count": null,
   "id": "d924ba6f",
   "metadata": {},
   "outputs": [],
   "source": [
    "if(not load_results):\n",
    "    experiments.save_results(save_prefix)"
   ]
  },
  {
   "cell_type": "markdown",
   "id": "literary-following",
   "metadata": {},
   "source": [
    "## Hist"
   ]
  },
  {
   "cell_type": "code",
   "execution_count": null,
   "id": "premier-novelty",
   "metadata": {},
   "outputs": [],
   "source": [
    "name = 'hist'"
   ]
  },
  {
   "cell_type": "code",
   "execution_count": null,
   "id": "d084003e",
   "metadata": {},
   "outputs": [],
   "source": [
    "if(not load_results):\n",
    "    experiments.front_end(name)"
   ]
  },
  {
   "cell_type": "code",
   "execution_count": null,
   "id": "97f127ae",
   "metadata": {
    "scrolled": true
   },
   "outputs": [],
   "source": [
    "if(not load_results):\n",
    "    experiments.back_end(name)"
   ]
  },
  {
   "cell_type": "code",
   "execution_count": null,
   "id": "1881e554",
   "metadata": {},
   "outputs": [],
   "source": [
    "if(not load_results):\n",
    "    experiments.back_end(name, mem=True)"
   ]
  },
  {
   "cell_type": "code",
   "execution_count": null,
   "id": "578009a5",
   "metadata": {},
   "outputs": [],
   "source": [
    "if(not load_results):\n",
    "    experiments.save_results(save_prefix)"
   ]
  },
  {
   "cell_type": "markdown",
   "id": "finnish-opening",
   "metadata": {},
   "source": [
    "## Conv_layer"
   ]
  },
  {
   "cell_type": "code",
   "execution_count": null,
   "id": "personalized-principal",
   "metadata": {},
   "outputs": [],
   "source": [
    "name = 'conv_layer'"
   ]
  },
  {
   "cell_type": "code",
   "execution_count": null,
   "id": "79f7eec3",
   "metadata": {},
   "outputs": [],
   "source": [
    "if(not load_results):\n",
    "    experiments.front_end(name)"
   ]
  },
  {
   "cell_type": "code",
   "execution_count": null,
   "id": "c761cc37",
   "metadata": {
    "scrolled": true
   },
   "outputs": [],
   "source": [
    "if(not load_results):\n",
    "    experiments.back_end(name)"
   ]
  },
  {
   "cell_type": "code",
   "execution_count": null,
   "id": "10909124",
   "metadata": {},
   "outputs": [],
   "source": [
    "if(not load_results):\n",
    "    experiments.back_end(name, mem=True)"
   ]
  },
  {
   "cell_type": "code",
   "execution_count": null,
   "id": "c67e7661",
   "metadata": {},
   "outputs": [],
   "source": [
    "if(not load_results):\n",
    "    experiments.save_results(save_prefix)"
   ]
  },
  {
   "cell_type": "markdown",
   "id": "executed-blowing",
   "metadata": {
    "slideshow": {
     "slide_type": ""
    }
   },
   "source": [
    "## Gemm"
   ]
  },
  {
   "cell_type": "code",
   "execution_count": null,
   "id": "suited-argument",
   "metadata": {},
   "outputs": [],
   "source": [
    "name = 'gemm'"
   ]
  },
  {
   "cell_type": "code",
   "execution_count": null,
   "id": "24e9e255",
   "metadata": {},
   "outputs": [],
   "source": [
    "if(not load_results):\n",
    "    experiments.front_end(name)"
   ]
  },
  {
   "cell_type": "code",
   "execution_count": null,
   "id": "ed9b1104",
   "metadata": {
    "scrolled": true
   },
   "outputs": [],
   "source": [
    "if(not load_results):\n",
    "    experiments.back_end(name)"
   ]
  },
  {
   "cell_type": "code",
   "execution_count": null,
   "id": "db5cd986",
   "metadata": {},
   "outputs": [],
   "source": [
    "if(not load_results):\n",
    "    experiments.back_end(name, mem=True)"
   ]
  },
  {
   "cell_type": "code",
   "execution_count": null,
   "id": "b9834f1b",
   "metadata": {},
   "outputs": [],
   "source": [
    "if(not load_results):\n",
    "    experiments.save_results(save_prefix)"
   ]
  },
  {
   "cell_type": "markdown",
   "id": "485b6b16",
   "metadata": {
    "slideshow": {
     "slide_type": ""
    }
   },
   "source": [
    "## Auto_viz"
   ]
  },
  {
   "cell_type": "code",
   "execution_count": null,
   "id": "26a57a74",
   "metadata": {},
   "outputs": [],
   "source": [
    "name = 'auto_viz'"
   ]
  },
  {
   "cell_type": "code",
   "execution_count": null,
   "id": "cc357350",
   "metadata": {},
   "outputs": [],
   "source": [
    "if(not load_results):\n",
    "    experiments.front_end(name)"
   ]
  },
  {
   "cell_type": "code",
   "execution_count": null,
   "id": "47c3f281",
   "metadata": {
    "scrolled": true
   },
   "outputs": [],
   "source": [
    "if(not load_results):\n",
    "    experiments.back_end(name)"
   ]
  },
  {
   "cell_type": "code",
   "execution_count": null,
   "id": "353c7ea3",
   "metadata": {},
   "outputs": [],
   "source": [
    "if(not load_results):\n",
    "    experiments.back_end(name, mem=True)"
   ]
  },
  {
   "cell_type": "code",
   "execution_count": null,
   "id": "dcdd200f",
   "metadata": {},
   "outputs": [],
   "source": [
    "if(not load_results):\n",
    "    experiments.save_results(save_prefix)"
   ]
  },
  {
   "cell_type": "markdown",
   "id": "43c4dede",
   "metadata": {
    "slideshow": {
     "slide_type": ""
    }
   },
   "source": [
    "## camera_pipeline"
   ]
  },
  {
   "cell_type": "code",
   "execution_count": null,
   "id": "08c0dd7d",
   "metadata": {},
   "outputs": [],
   "source": [
    "name = 'camera_pipe'"
   ]
  },
  {
   "cell_type": "code",
   "execution_count": null,
   "id": "5ade64e7",
   "metadata": {
    "scrolled": true
   },
   "outputs": [],
   "source": [
    "if(not load_results):\n",
    "    experiments.back_end(name, mem=True)"
   ]
  },
  {
   "cell_type": "code",
   "execution_count": null,
   "id": "24d4c336",
   "metadata": {},
   "outputs": [],
   "source": [
    "if(not load_results):\n",
    "    experiments.save_results(save_prefix)"
   ]
  },
  {
   "cell_type": "markdown",
   "id": "b238c45e",
   "metadata": {
    "slideshow": {
     "slide_type": ""
    }
   },
   "source": [
    "## bilateral_grid"
   ]
  },
  {
   "cell_type": "code",
   "execution_count": null,
   "id": "49335509",
   "metadata": {},
   "outputs": [],
   "source": [
    "name = 'bilateral_grid'"
   ]
  },
  {
   "cell_type": "code",
   "execution_count": null,
   "id": "4c40c438",
   "metadata": {
    "scrolled": true
   },
   "outputs": [],
   "source": [
    "if(not load_results):\n",
    "    experiments.back_end(name, mem=True)"
   ]
  },
  {
   "cell_type": "code",
   "execution_count": null,
   "id": "7a13799c",
   "metadata": {},
   "outputs": [],
   "source": [
    "if(not load_results):\n",
    "    experiments.save_results(save_prefix)"
   ]
  },
  {
   "cell_type": "markdown",
   "id": "31839723",
   "metadata": {
    "slideshow": {
     "slide_type": ""
    }
   },
   "source": [
    "## depthwise_separable_conv"
   ]
  },
  {
   "cell_type": "code",
   "execution_count": null,
   "id": "dc072130",
   "metadata": {},
   "outputs": [],
   "source": [
    "name = 'depthwise_separable_conv'"
   ]
  },
  {
   "cell_type": "code",
   "execution_count": null,
   "id": "e637ee16",
   "metadata": {
    "scrolled": true
   },
   "outputs": [],
   "source": [
    "if(not load_results):\n",
    "    experiments.back_end(name, mem=True)"
   ]
  },
  {
   "cell_type": "code",
   "execution_count": null,
   "id": "c8a23706",
   "metadata": {},
   "outputs": [],
   "source": [
    "if(not load_results):\n",
    "    experiments.save_results(save_prefix)"
   ]
  },
  {
   "cell_type": "markdown",
   "id": "2ec5c9f7",
   "metadata": {},
   "source": [
    "# Inconsistent Results"
   ]
  },
  {
   "cell_type": "code",
   "execution_count": null,
   "id": "01db9280",
   "metadata": {},
   "outputs": [],
   "source": [
    "# Some results are inconsistent, so it would be better to rerun these results\n",
    "inconsistent_results = {'gemm_2_mem.c', 'blur_3.c', 'auto_viz_0.c', 'auto_viz_2.c', 'auto_viz_3.c'}\n",
    "#rerun_inconsistent = True\n",
    "if(!load_results and rerun_inconsistent):\n",
    "    for n in inconsistent_results:\n",
    "        experiments.run_verification(n, repetitions=4, useAPI=True)"
   ]
  },
  {
   "cell_type": "markdown",
   "id": "inclusive-distinction",
   "metadata": {},
   "source": [
    "# Result table"
   ]
  },
  {
   "cell_type": "code",
   "execution_count": null,
   "id": "f40158c4",
   "metadata": {},
   "outputs": [],
   "source": [
    "# Load results, otherwise it uses the results from run experiments\n",
    "if(load_results):\n",
    "    experiments.load_results(load_prefix)"
   ]
  },
  {
   "cell_type": "code",
   "execution_count": null,
   "id": "2b27a9f0",
   "metadata": {},
   "outputs": [],
   "source": [
    "# Make Table 1 of the paper\n",
    "mem_table = make_mem_table(experiments)\n",
    "# This the actual latex table code\n",
    "print(mem_table)\n",
    "# We can write it to file\n",
    "with open(\"result_table.tex\", \"w\") as f:\n",
    "    f.write(mem_table)"
   ]
  },
  {
   "cell_type": "code",
   "execution_count": null,
   "id": "7608c222",
   "metadata": {},
   "outputs": [],
   "source": [
    "# Make Table 2 of the paper\n",
    "normal_table = make_normal_table(experiments)\n",
    "# This the actual latex table code\n",
    "print(normal_table)\n",
    "# We can write it to file\n",
    "with open(\"result_table_mem.tex\", \"w\") as f:\n",
    "    f.write(normal_table)"
   ]
  },
  {
   "cell_type": "code",
   "execution_count": null,
   "id": "521ad2ff",
   "metadata": {},
   "outputs": [],
   "source": [
    "!pdflatex -quiet table.tex"
   ]
  },
  {
   "cell_type": "code",
   "execution_count": null,
   "id": "2b7d3b70",
   "metadata": {},
   "outputs": [],
   "source": [
    "PDF('table.pdf',size=(950,500))"
   ]
  },
  {
   "cell_type": "markdown",
   "id": "d953ef88",
   "metadata": {},
   "source": [
    "# End"
   ]
  }
 ],
 "metadata": {
  "kernelspec": {
   "display_name": "Python 3 (ipykernel)",
   "language": "python",
   "name": "python3"
  },
  "language_info": {
   "codemirror_mode": {
    "name": "ipython",
    "version": 3
   },
   "file_extension": ".py",
   "mimetype": "text/x-python",
   "name": "python",
   "nbconvert_exporter": "python",
   "pygments_lexer": "ipython3",
   "version": "3.10.12"
  }
 },
 "nbformat": 4,
 "nbformat_minor": 5
}
